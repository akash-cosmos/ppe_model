{
 "cells": [
  {
   "cell_type": "code",
   "execution_count": 1,
   "id": "5cd17fb2",
   "metadata": {},
   "outputs": [
    {
     "name": "stdout",
     "output_type": "stream",
     "text": [
      "Version 1.1\n"
     ]
    }
   ],
   "source": [
    "import sys\n",
    "sys.path.append('/mnt/pfs/akash.mishra/ppe_model/')\n",
    "import numpy as np\n",
    "import matplotlib.pyplot as plt\n",
    "import waveform_model\n",
    "# import pycbc.ppe.ppe_tools as ppe_tools\n",
    "\n",
    "import pycbc\n",
    "import bilby\n",
    "import numpy as np\n",
    "import matplotlib.pylab as plt\n",
    "import pycbc.psd\n",
    "from waveform_model import ppe_c1_eps_model_rescaled\n",
    "np.set_printoptions(threshold=sys.maxsize)\n",
    "import pycbc.waveform as wf\n",
    "from prior import DiscreteUniform"
   ]
  },
  {
   "cell_type": "code",
   "execution_count": 2,
   "id": "2db11d0b-a5e4-4ab6-91f3-7dcca90e83b0",
   "metadata": {},
   "outputs": [
    {
     "name": "stdout",
     "output_type": "stream",
     "text": [
      "Name: bilby\n",
      "Version: 1.1.5\n",
      "Summary: A user-friendly Bayesian inference library\n",
      "Home-page: https://git.ligo.org/lscsoft/bilby\n",
      "Author: Greg Ashton, Moritz Huebner, Paul Lasky, Colm Talbot\n",
      "Author-email: paul.lasky@monash.edu\n",
      "License: MIT\n",
      "Location: /home/akash.mishra/miniconda3/envs/igwn-py38_td/lib/python3.8/site-packages\n",
      "Requires: astropy, attrs, corner, dill, dynesty, emcee, h5py, matplotlib, mock, numpy, pandas, scipy, tables, tqdm\n",
      "Required-by: bilby-pipe, cwinpy, gwpopulation\n",
      "Note: you may need to restart the kernel to use updated packages.\n"
     ]
    }
   ],
   "source": [
    "pip show bilby"
   ]
  },
  {
   "cell_type": "code",
   "execution_count": 2,
   "id": "d25cbd9f",
   "metadata": {},
   "outputs": [],
   "source": [
    "frequency_array = np.arange(20, 1024, 1/4)\n",
    "mass_2 = 32\n",
    "mass_1 = 35\n",
    "luminosity_distance = 400\n",
    "theta_jn = 0.5\n",
    "phase = 0.5\n",
    "b = -1\n",
    "rescaled_beta = 0.5\n",
    "rescaled_eps = 0.1\n",
    "\n",
    "hp = ppe_c1_eps_model_rescaled(frequency_array, mass_1, mass_2, 0.5, 0.5, 0.0, 0.0, \n",
    "                               luminosity_distance, theta_jn, 0.0, 0.0, phase, b, rescaled_beta, rescaled_eps, a=0.0, alpha=0.0)['cross']\n",
    "\n",
    "hc = ppe_c1_eps_model_rescaled(frequency_array, mass_1, mass_2, 0.5, 0.5, 0.0, 0.0, \n",
    "                               luminosity_distance, theta_jn, 0.0, 0.0, phase, b, rescaled_beta, rescaled_eps, a=0.0, alpha=0.0)['cross']\n",
    "\n",
    "\n"
   ]
  },
  {
   "cell_type": "markdown",
   "id": "b46f3d30",
   "metadata": {},
   "source": [
    "# MisMatch Analysis"
   ]
  },
  {
   "cell_type": "code",
   "execution_count": 3,
   "id": "ec82bea6",
   "metadata": {},
   "outputs": [],
   "source": [
    "# PSD\n",
    "\n",
    "delta_f = 1/8\n",
    "fhigh = 1024\n",
    "flen = int(fhigh/delta_f) + 1\n",
    "flow = 20\n",
    "\n",
    "asd_file_HL='/mnt/pfs/akash.mishra/ppe_model/Noise/aLIGO_O4_high_asd.txt'\n",
    "psd_HL = pycbc.psd.from_txt(asd_file_HL, flen, delta_f,flow, is_asd_file=True)\n",
    "\n",
    "psd_file_V='/mnt/pfs/akash.mishra/ppe_model/Noise/AdV_psd.txt'\n",
    "psd_V = pycbc.psd.from_txt(psd_file_V, flen, delta_f,flow, is_asd_file=False)"
   ]
  },
  {
   "cell_type": "code",
   "execution_count": 4,
   "id": "edfae6c1",
   "metadata": {},
   "outputs": [
    {
     "name": "stderr",
     "output_type": "stream",
     "text": [
      "19:33 bilby INFO    : Waveform generator initiated with\n",
      "  frequency_domain_source_model: bilby.gw.source.lal_binary_black_hole\n",
      "  time_domain_source_model: None\n",
      "  parameter_conversion: bilby.gw.conversion.convert_to_lal_binary_black_hole_parameters\n"
     ]
    }
   ],
   "source": [
    "waveform_arguments = dict(waveform_approximant='IMRPhenomPv2',reference_frequency=20., minimum_frequency=20.)\n",
    "sampling_frequency=2048\n",
    "duration=8\n",
    "waveform_generator_gr = bilby.gw.WaveformGenerator(\n",
    "    duration=duration, sampling_frequency=sampling_frequency,\n",
    "    frequency_domain_source_model=bilby.gw.source.lal_binary_black_hole,parameter_conversion = bilby.gw.conversion.convert_to_lal_binary_black_hole_parameters,waveform_arguments=waveform_arguments)"
   ]
  },
  {
   "cell_type": "code",
   "execution_count": 5,
   "id": "2ad6b402",
   "metadata": {},
   "outputs": [
    {
     "name": "stderr",
     "output_type": "stream",
     "text": [
      "19:33 bilby INFO    : Waveform generator initiated with\n",
      "  frequency_domain_source_model: waveform_model.ppe_c1_eps_model_rescaled\n",
      "  time_domain_source_model: None\n",
      "  parameter_conversion: bilby.gw.conversion.convert_to_lal_binary_black_hole_parameters\n"
     ]
    }
   ],
   "source": [
    "waveform_generator_ppe = bilby.gw.WaveformGenerator(\n",
    "    duration=duration, sampling_frequency=sampling_frequency,\n",
    "    frequency_domain_source_model=ppe_c1_eps_model_rescaled,parameter_conversion = bilby.gw.conversion.convert_to_lal_binary_black_hole_parameters,waveform_arguments=waveform_arguments)"
   ]
  },
  {
   "cell_type": "code",
   "execution_count": 6,
   "id": "ae5e04a7",
   "metadata": {},
   "outputs": [],
   "source": [
    "inj_pars_gr=dict(mass_1 = 35, mass_2 = 30, a_1 = 0.5, a_2 = 0.4, tilt_1 = 3.1, tilt_2 = 2.9, luminosity_distance = 558.553, theta_jn = 2.921, phi_12 = 0.0, phi_jl = 0.0, \n",
    "                phase = 1.893, ra = 1.9, dec = -1.22, psi = 0.8, geocent_time = 1126259462.414)\n",
    "hp = waveform_generator_gr.frequency_domain_strain(inj_pars_gr)['plus']\n",
    "hc = waveform_generator_gr.frequency_domain_strain(inj_pars_gr)['cross']"
   ]
  },
  {
   "cell_type": "code",
   "execution_count": 7,
   "id": "39c13bfc",
   "metadata": {},
   "outputs": [
    {
     "data": {
      "text/plain": [
       "[<matplotlib.lines.Line2D at 0x7f3ec62bba30>]"
      ]
     },
     "execution_count": 7,
     "metadata": {},
     "output_type": "execute_result"
    },
    {
     "data": {
      "image/png": "[encoded data removed]",
      "text/plain": [
       "<Figure size 640x480 with 1 Axes>"
      ]
     },
     "metadata": {},
     "output_type": "display_data"
    }
   ],
   "source": [
    "plt.plot(hp)"
   ]
  },
  {
   "cell_type": "markdown",
   "id": "7a691028",
   "metadata": {},
   "source": [
    "# Test"
   ]
  },
  {
   "cell_type": "code",
   "execution_count": 8,
   "id": "59d43de8",
   "metadata": {},
   "outputs": [],
   "source": [
    "inj_pars_gr=dict(mass_1 = 35, mass_2 = 30, a_1 = 0.5, a_2 = 0.4, tilt_1 = 3.1, tilt_2 = 2.9, luminosity_distance = 558.553, theta_jn = 2.921, phi_12 = 0.0, phi_jl = 0.0, \n",
    "                phase = 1.893, ra = 1.9, dec = -1.22, psi = 0.8, geocent_time = 1126259462.414)\n",
    "\n",
    "inj_pars_ppe = dict(mass_1 = 35, mass_2 = 30, a_1 = 0.5, a_2 = 0.4, tilt_1 = 3.1, tilt_2 = 2.9, luminosity_distance = 558.553, theta_jn = 2.921, phi_12 = 0.0, phi_jl = 0.0, \n",
    "                phase = 1.893, ra = 1.9, dec = -1.22, psi = 0.8, geocent_time = 1126259462.414, rescaled_beta = 0.3,\n",
    "                   rescaled_eps = 0.1, b = -1, alpha = 0.0, a = 0.0)"
   ]
  },
  {
   "cell_type": "code",
   "execution_count": 9,
   "id": "eea3d2be",
   "metadata": {},
   "outputs": [],
   "source": [
    "ifos1 = bilby.gw.detector.InterferometerList(['H1'])\n",
    "ifos2 = bilby.gw.detector.InterferometerList(['H1'])\n",
    "\n",
    "ifos1.set_strain_data_from_zero_noise(sampling_frequency=sampling_frequency, duration=duration,\n",
    "               start_time=inj_pars_gr['geocent_time'] - 6)\n",
    "        \n",
    "ifos2.set_strain_data_from_zero_noise(sampling_frequency=sampling_frequency, duration=duration,\\\n",
    "                                          start_time=inj_pars_ppe['geocent_time'] - 6)"
   ]
  },
  {
   "cell_type": "code",
   "execution_count": 10,
   "id": "4eb6412d",
   "metadata": {},
   "outputs": [
    {
     "ename": "NameError",
     "evalue": "name 'ts_1_H1' is not defined",
     "output_type": "error",
     "traceback": [
      "\u001b[0;31m---------------------------------------------------------------------------\u001b[0m",
      "\u001b[0;31mNameError\u001b[0m                                 Traceback (most recent call last)",
      "Cell \u001b[0;32mIn [10], line 1\u001b[0m\n\u001b[0;32m----> 1\u001b[0m match_H1, shift_H1 \u001b[38;5;241m=\u001b[39m \u001b[43mts_1_H1\u001b[49m\u001b[38;5;241m.\u001b[39mmatch(ts_2_H1,psd\u001b[38;5;241m=\u001b[39mpsd_HL,low_frequency_cutoff\u001b[38;5;241m=\u001b[39mflow,high_frequency_cutoff\u001b[38;5;241m=\u001b[39mfhigh)\n",
      "\u001b[0;31mNameError\u001b[0m: name 'ts_1_H1' is not defined"
     ]
    }
   ],
   "source": [
    "match_H1, shift_H1 = ts_1_H1.match(ts_2_H1,psd=psd_HL,low_frequency_cutoff=flow,high_frequency_cutoff=fhigh)"
   ]
  },
  {
   "cell_type": "code",
   "execution_count": 11,
   "id": "1173df9e",
   "metadata": {},
   "outputs": [
    {
     "ename": "NameError",
     "evalue": "name 'match_H1' is not defined",
     "output_type": "error",
     "traceback": [
      "\u001b[0;31m---------------------------------------------------------------------------\u001b[0m",
      "\u001b[0;31mNameError\u001b[0m                                 Traceback (most recent call last)",
      "Cell \u001b[0;32mIn [11], line 1\u001b[0m\n\u001b[0;32m----> 1\u001b[0m \u001b[43mmatch_H1\u001b[49m\n",
      "\u001b[0;31mNameError\u001b[0m: name 'match_H1' is not defined"
     ]
    }
   ],
   "source": [
    "match_H1"
   ]
  },
  {
   "cell_type": "code",
   "execution_count": 12,
   "id": "9157e893",
   "metadata": {},
   "outputs": [],
   "source": [
    "gr_pols = waveform_generator_gr.frequency_domain_strain(parameters=inj_pars_gr)\n",
    "hp_gr = gr_pols['plus']"
   ]
  },
  {
   "cell_type": "code",
   "execution_count": 13,
   "id": "50ad3335",
   "metadata": {},
   "outputs": [],
   "source": [
    "frequency_series_gr = pycbc.types.FrequencySeries(hp_gr, delta_f=delta_f)\n",
    "def MatchCalculator(rescaled_beta, rescaled_eps, b):\n",
    "    inj_pars_ppe = dict(mass_1 = 35, mass_2 = 30, a_1 = 0.5, a_2 = 0.4, tilt_1 = 3.1, tilt_2 = 2.9, luminosity_distance = 558.553, theta_jn = 2.921, phi_12 = 0.0, phi_jl = 0.0, \n",
    "                phase = 1.893, ra = 1.9, dec = -1.22, psi = 0.8, geocent_time = 1126259462.414, rescaled_beta = rescaled_beta,\n",
    "                   rescaled_eps = rescaled_eps, b = b, alpha = 0.0, a = 0.0)\n",
    "    \n",
    "    ppe_pols = waveform_generator_ppe.frequency_domain_strain(parameters=inj_pars_ppe)\n",
    "    hp_ppe = ppe_pols['plus']\n",
    "    frequency_series_ppe = pycbc.types.FrequencySeries(hp_ppe, delta_f=delta_f)\n",
    "    \n",
    "    match_H1, shift_H1 = frequency_series_gr.match(frequency_series_ppe,psd=psd_HL,low_frequency_cutoff=flow,high_frequency_cutoff=fhigh)\n",
    "    \n",
    "    return match_H1"
   ]
  },
  {
   "cell_type": "code",
   "execution_count": 47,
   "id": "58088937",
   "metadata": {},
   "outputs": [
    {
     "data": {
      "text/plain": [
       "0.7951510465395464"
      ]
     },
     "execution_count": 47,
     "metadata": {},
     "output_type": "execute_result"
    }
   ],
   "source": [
    "MatchCalculator(3, 0.2, -1)"
   ]
  },
  {
   "cell_type": "code",
   "execution_count": 20,
   "id": "403de8e8",
   "metadata": {},
   "outputs": [],
   "source": [
    "import numpy as np\n",
    "import matplotlib.pyplot as plt\n",
    "n_points = 10000\n",
    "b_value = -1\n",
    "# Create the grid using linspace for both x and y\n",
    "rescaled_beta = np.linspace(-10.0, 10.0, 100)\n",
    "rescaled_eps = np.linspace(-10.0, 10.0, 100)\n",
    "\n",
    "# Generate all combinations of x and y\n",
    "rescaled_beta_grid, rescaled_eps_grid = np.meshgrid(rescaled_beta, rescaled_eps)\n",
    "beta_tuples = rescaled_beta_grid.flatten()\n",
    "eps_tuples = rescaled_eps_grid.flatten()\n",
    "\n",
    "# Generate 100 random tuples (x, y)\n",
    "random_indices = np.random.choice(len(beta_tuples), n_points, replace=True)\n",
    "random_beta = beta_tuples[random_indices]\n",
    "random_eps = eps_tuples[random_indices]\n",
    "\n",
    "# Calculate f(x, y) = exp(-x^2 + y^2)\n",
    "Match_values = []\n",
    "for i in range(n_points):\n",
    "    Match_values.append(MatchCalculator(random_beta[i], random_eps[i], b_value))\n",
    "\n",
    "# Create the density plot using plt.scatter\n"
   ]
  },
  {
   "cell_type": "code",
   "execution_count": 6,
   "id": "0720f982",
   "metadata": {},
   "outputs": [
    {
     "data": {
      "text/plain": [
       "-0.012551042500482936"
      ]
     },
     "execution_count": 6,
     "metadata": {},
     "output_type": "execute_result"
    }
   ],
   "source": [
    "from functions import *\n",
    "beta_from_beta_tilde_wrapped(-0.3, 20, 0.3, -4, 0.018, 70)"
   ]
  },
  {
   "cell_type": "code",
   "execution_count": 19,
   "id": "5bca2afd",
   "metadata": {},
   "outputs": [
    {
     "data": {
      "image/png": "[encoded data removed]",
      "text/plain": [
       "<Figure size 640x480 with 2 Axes>"
      ]
     },
     "metadata": {},
     "output_type": "display_data"
    }
   ],
   "source": [
    "plt.scatter(random_beta, random_eps, c=Match_values, cmap='magma', vmin = 0.9)\n",
    "\n",
    "# Add a colorbar to show the colormap scale\n",
    "plt.colorbar()\n",
    "\n",
    "# Add labels and title to the plot (optional)\n",
    "plt.xlabel('rescaled_beta')\n",
    "plt.ylabel('epsilon')\n",
    "plt.title('Match')\n",
    "plt.savefig('b_3.pdf')\n",
    "# Show the plot\n",
    "plt.show()"
   ]
  },
  {
   "cell_type": "code",
   "execution_count": 84,
   "id": "35223ec9",
   "metadata": {},
   "outputs": [],
   "source": [
    "ifos1.set_strain_data_from_zero_noise(sampling_frequency=sampling_frequency, duration=duration,\n",
    "               start_time=inj_pars_gr['geocent_time'] - 6)"
   ]
  },
  {
   "cell_type": "code",
   "execution_count": 29,
   "id": "58b98284",
   "metadata": {},
   "outputs": [],
   "source": [
    "def calc_mismatch_injections(inj_pars1,inj_pars2, waveform_generator_gr, waveform_generator_ppe, psd_H, sampling_frequency=2048,duration=8,flow=20,fhigh=1024):\n",
    "    \"\"\"Calculate mismatch between the strains two sets of injection parameters, waveform generator and PSDs.\"\"\"\n",
    "    \n",
    "    ifos1 = bilby.gw.detector.InterferometerList(['H1'])\n",
    "    ifos2 = bilby.gw.detector.InterferometerList(['H1'])\n",
    "    \n",
    "    \n",
    "\n",
    "    ifos1.set_strain_data_from_zero_noise(sampling_frequency=sampling_frequency, duration=duration,\n",
    "               start_time=inj_pars1['geocent_time'] - 6)\n",
    "        \n",
    "    ifos2.set_strain_data_from_zero_noise(sampling_frequency=sampling_frequency, duration=duration,\\\n",
    "                                          start_time=inj_pars2['geocent_time'] - 6)\n",
    "\n",
    "    inj1 = ifos1.inject_signal(waveform_generator=waveform_generator_gr,parameters=inj_pars1)\n",
    "    inj2 = ifos2.inject_signal(waveform_generator=waveform_generator_ppe,parameters=inj_pars2)\n",
    "    fs_1_H1 = ifos1[0].strain_data.to_pycbc_frequencyseries()\n",
    "\n",
    "    fs_2_H1 = ifos2[0].strain_data.to_pycbc_frequencyseries()\n",
    "\n",
    "    match_H1, shift_H1 = fs_1_H1.match(fs_2_H1,psd=psd_H,low_frequency_cutoff=flow,high_frequency_cutoff=fhigh)\n",
    "#     match_L1, shift_L1 = fs_1_L1.match(fs_2_L1,psd=psd_L,low_frequency_cutoff=flow,high_frequency_cutoff=fhigh)\n",
    "#     match_V1, shift_V1 = fs_1_V1.match(fs_2_V1,psd=psd_V,low_frequency_cutoff=flow,high_frequency_cutoff=fhigh)\n",
    "    return np.array([1-match_H1]), np.array([shift_H1]),np.array([ifos1,ifos2])"
   ]
  },
  {
   "cell_type": "code",
   "execution_count": 30,
   "id": "349937d8",
   "metadata": {},
   "outputs": [],
   "source": [
    "def plot_mismatch_beta_e_grid(rescaled_beta_grid,rescaled_eps_grid,b, mismatchs_arr,save=False):\n",
    "    plt.figure(figsize=(6,5))\n",
    "    c= mismatchs_arr#np.log((mismatchs_arr**2).sum(axis=2).flatten())\n",
    "    plt.scatter(rescaled_beta_grid.flatten(),rescaled_eps_grid.flatten(),c=c, cmap = 'magma')\n",
    "    print(c)\n",
    "    plt.xlabel('beta')\n",
    "    plt.ylabel('e')\n",
    "    plt.clim(-6,0)\n",
    "    plt.grid()\n",
    "    plt.xlim(-3,3)\n",
    "    plt.ylim(-3, 3)\n",
    "    plt.colorbar()\n",
    "    ax=plt.gca()\n",
    "    #ax.set_yticks(np.arange(0, np.pi/2+0.01, np.pi/8))\n",
    "    #labels = ['$0$', r'$\\pi/8$', r'$\\pi/4$', r'$3\\pi/8$', r'$\\pi/2$']\n",
    "    #ax.set_yticklabels(labels)\n",
    "    if save == True:\n",
    "        plt.savefig('mismatch_plots/'+save +str(b)+'.pdf')\n",
    "    plt.title('Match ppe and GR waveform b = '+str(b))\n",
    "    plt.show()"
   ]
  },
  {
   "cell_type": "code",
   "execution_count": 35,
   "id": "e7c61406",
   "metadata": {},
   "outputs": [],
   "source": [
    "def mismatch_beta_e_grid(inj_pars1, inj_pars2, rescaled_beta_grid, rescaled_eps_grid, b, plot=False,save=False):\n",
    "    \"\"\" Returns mismatch and shifts 3D arrays nbeta x ne x ndets\"\"\"\n",
    "    mismatchs_arr = np.zeros([rescaled_beta_grid.shape[0],rescaled_eps_grid.shape[1],3])\n",
    "    shifts_arr = np.zeros([rescaled_beta_grid.shape[0],rescaled_eps_grid.shape[1],3])\n",
    "    \n",
    "    inj_pars2['b'] = b\n",
    "    \n",
    "    for i in range(rescaled_beta_grid.shape[0]):\n",
    "        for j in range(rescaled_beta_grid.shape[1]):\n",
    "            inj_pars2['rescaled_beta'] = rescaled_beta_grid[i,j]\n",
    "            inj_pars2['rescaled_eps']=rescaled_eps_grid[i,j]\n",
    "            mismatchs,shifts,ifos = calc_mismatch_injections(inj_pars_gr, inj_pars2, waveform_generator_gr, waveform_generator_ppe, psd_HL)\n",
    "            mismatchs_arr[i,j,:],shifts_arr[i,j,:] =  mismatchs,shifts\n",
    "            #print('mismatch for (i,j) -> (', i, j, ') i.e. (',beta_grid[i,j], e_grid[i,j], ' is ', mismatchs)\n",
    "    if save == True:\n",
    "         np.savez('mismatch_plots/'+save+str(b)+'.npz', rescaled_beta_grid=rescaled_beta_grid,rescaled_eps_grid=rescaled_eps_grid,mismatchs_arr=mismatchs_arr,shifts_arr=shifts_arr)\n",
    "    #print(mismatchs_arr)\n",
    "    if plot == True:\n",
    "        plot_mismatch_beta_e_grid(rescaled_beta_grid,rescaled_eps_grid,b,mismatchs_arr,save=save)\n",
    "    return mismatchs_arr,shifts_arr"
   ]
  },
  {
   "cell_type": "code",
   "execution_count": 39,
   "id": "e9f6fc52",
   "metadata": {},
   "outputs": [
    {
     "data": {
      "text/plain": [
       "{'mass_1': 35,\n",
       " 'mass_2': 30,\n",
       " 'a_1': 0.5,\n",
       " 'a_2': 0.4,\n",
       " 'tilt_1': 3.1,\n",
       " 'tilt_2': 2.9,\n",
       " 'luminosity_distance': 558.553,\n",
       " 'theta_jn': 2.921,\n",
       " 'phi_12': 0.0,\n",
       " 'phi_jl': 0.0,\n",
       " 'phase': 1.893,\n",
       " 'ra': 1.9,\n",
       " 'dec': -1.22,\n",
       " 'psi': 0.8,\n",
       " 'geocent_time': 1126259462.414,\n",
       " 'b': -1,\n",
       " 'rescaled_beta': -3.0,\n",
       " 'rescaled_eps': -3.0}"
      ]
     },
     "execution_count": 39,
     "metadata": {},
     "output_type": "execute_result"
    }
   ],
   "source": [
    " inj_pars_gr"
   ]
  },
  {
   "cell_type": "code",
   "execution_count": 40,
   "id": "0b3120c1",
   "metadata": {},
   "outputs": [
    {
     "name": "stderr",
     "output_type": "stream",
     "text": [
      "17:40 bilby INFO    : Injected signal in H1:\n",
      "17:40 bilby INFO    :   optimal SNR = 43.26\n",
      "17:40 bilby INFO    :   matched filter SNR = 43.26+0.00j\n",
      "17:40 bilby INFO    :   mass_1 = 35\n",
      "17:40 bilby INFO    :   mass_2 = 30\n",
      "17:40 bilby INFO    :   a_1 = 0.5\n",
      "17:40 bilby INFO    :   a_2 = 0.4\n",
      "17:40 bilby INFO    :   tilt_1 = 3.1\n",
      "17:40 bilby INFO    :   tilt_2 = 2.9\n",
      "17:40 bilby INFO    :   luminosity_distance = 558.553\n",
      "17:40 bilby INFO    :   theta_jn = 2.921\n",
      "17:40 bilby INFO    :   phi_12 = 0.0\n",
      "17:40 bilby INFO    :   phi_jl = 0.0\n",
      "17:40 bilby INFO    :   phase = 1.893\n",
      "17:40 bilby INFO    :   ra = 1.9\n",
      "17:40 bilby INFO    :   dec = -1.22\n",
      "17:40 bilby INFO    :   psi = 0.8\n",
      "17:40 bilby INFO    :   geocent_time = 1126259462.414\n",
      "17:40 bilby INFO    :   b = -1\n",
      "17:40 bilby INFO    :   rescaled_beta = -3.0\n",
      "17:40 bilby INFO    :   rescaled_eps = -3.0\n",
      "17:40 bilby INFO    : Injected signal in H1:\n",
      "17:40 bilby INFO    :   optimal SNR = 43.26\n",
      "17:40 bilby INFO    :   matched filter SNR = 43.26+0.00j\n",
      "17:40 bilby INFO    :   mass_1 = 35\n",
      "17:40 bilby INFO    :   mass_2 = 30\n",
      "17:40 bilby INFO    :   a_1 = 0.5\n",
      "17:40 bilby INFO    :   a_2 = 0.4\n",
      "17:40 bilby INFO    :   tilt_1 = 3.1\n",
      "17:40 bilby INFO    :   tilt_2 = 2.9\n",
      "17:40 bilby INFO    :   luminosity_distance = 558.553\n",
      "17:40 bilby INFO    :   theta_jn = 2.921\n",
      "17:40 bilby INFO    :   phi_12 = 0.0\n",
      "17:40 bilby INFO    :   phi_jl = 0.0\n",
      "17:40 bilby INFO    :   phase = 1.893\n",
      "17:40 bilby INFO    :   ra = 1.9\n",
      "17:40 bilby INFO    :   dec = -1.22\n",
      "17:40 bilby INFO    :   psi = 0.8\n",
      "17:40 bilby INFO    :   geocent_time = 1126259462.414\n",
      "17:40 bilby INFO    :   rescaled_beta = 0.3\n",
      "17:40 bilby INFO    :   rescaled_eps = 0.1\n",
      "17:40 bilby INFO    :   b = -1\n",
      "17:40 bilby INFO    :   alpha = 0.0\n",
      "17:40 bilby INFO    :   a = 0.0\n"
     ]
    },
    {
     "data": {
      "text/plain": [
       "(array([0.01145741]),\n",
       " array([0]),\n",
       " array([[Interferometer(name='H1', power_spectral_density=PowerSpectralDensity(psd_file='None', asd_file='/home/akash.mishra/miniconda3/envs/igwn-py38/lib/python3.8/site-packages/bilby/gw/detector/noise_curves/aLIGO_O4_high_asd.txt'), minimum_frequency=20.0, maximum_frequency=1024.0, length=4.0, latitude=46.45514666666667, longitude=-119.4076571388889, elevation=142.554, xarm_azimuth=125.9994, yarm_azimuth=215.9994, xarm_tilt=-0.0006195, yarm_tilt=1.25e-05)],\n",
       "        [Interferometer(name='H1', power_spectral_density=PowerSpectralDensity(psd_file='None', asd_file='/home/akash.mishra/miniconda3/envs/igwn-py38/lib/python3.8/site-packages/bilby/gw/detector/noise_curves/aLIGO_O4_high_asd.txt'), minimum_frequency=20.0, maximum_frequency=1024.0, length=4.0, latitude=46.45514666666667, longitude=-119.4076571388889, elevation=142.554, xarm_azimuth=125.9994, yarm_azimuth=215.9994, xarm_tilt=-0.0006195, yarm_tilt=1.25e-05)]],\n",
       "       dtype=object))"
      ]
     },
     "execution_count": 40,
     "metadata": {},
     "output_type": "execute_result"
    }
   ],
   "source": [
    "calc_mismatch_injections(inj_pars_gr, inj_pars_ppe, waveform_generator_gr, waveform_generator_ppe, psd_HL)"
   ]
  },
  {
   "cell_type": "code",
   "execution_count": 41,
   "id": "defe1e6e",
   "metadata": {},
   "outputs": [
    {
     "name": "stderr",
     "output_type": "stream",
     "text": [
      "17:40 bilby INFO    : Injected signal in H1:\n",
      "17:40 bilby INFO    :   optimal SNR = 43.26\n",
      "17:40 bilby INFO    :   matched filter SNR = 43.26+0.00j\n",
      "17:40 bilby INFO    :   mass_1 = 35\n",
      "17:40 bilby INFO    :   mass_2 = 30\n",
      "17:40 bilby INFO    :   a_1 = 0.5\n",
      "17:40 bilby INFO    :   a_2 = 0.4\n",
      "17:40 bilby INFO    :   tilt_1 = 3.1\n",
      "17:40 bilby INFO    :   tilt_2 = 2.9\n",
      "17:40 bilby INFO    :   luminosity_distance = 558.553\n",
      "17:40 bilby INFO    :   theta_jn = 2.921\n",
      "17:40 bilby INFO    :   phi_12 = 0.0\n",
      "17:40 bilby INFO    :   phi_jl = 0.0\n",
      "17:40 bilby INFO    :   phase = 1.893\n",
      "17:40 bilby INFO    :   ra = 1.9\n",
      "17:40 bilby INFO    :   dec = -1.22\n",
      "17:40 bilby INFO    :   psi = 0.8\n",
      "17:40 bilby INFO    :   geocent_time = 1126259462.414\n",
      "17:40 bilby INFO    :   b = -1\n",
      "17:40 bilby INFO    :   rescaled_beta = -3.0\n",
      "17:40 bilby INFO    :   rescaled_eps = -3.0\n"
     ]
    },
    {
     "ename": "KeyError",
     "evalue": "'alpha'",
     "output_type": "error",
     "traceback": [
      "\u001b[0;31m---------------------------------------------------------------------------\u001b[0m",
      "\u001b[0;31mKeyError\u001b[0m                                  Traceback (most recent call last)",
      "Cell \u001b[0;32mIn [41], line 13\u001b[0m\n\u001b[1;32m      9\u001b[0m eps \u001b[38;5;241m=\u001b[39m np\u001b[38;5;241m.\u001b[39mlinspace(\u001b[38;5;241m-\u001b[39m\u001b[38;5;241m3.0\u001b[39m,\u001b[38;5;241m3.0\u001b[39m, \u001b[38;5;241m2\u001b[39m)\n\u001b[1;32m     11\u001b[0m rescaled_beta_grid, rescaled_eps_grid\u001b[38;5;241m=\u001b[39mnp\u001b[38;5;241m.\u001b[39mmeshgrid(beta,eps)\n\u001b[0;32m---> 13\u001b[0m mismatchs_arr,shifts_arr \u001b[38;5;241m=\u001b[39m \u001b[43mmismatch_beta_e_grid\u001b[49m\u001b[43m(\u001b[49m\u001b[43minj_pars_gr\u001b[49m\u001b[43m,\u001b[49m\u001b[43m \u001b[49m\u001b[43minj_pars_gr\u001b[49m\u001b[43m,\u001b[49m\u001b[43m \u001b[49m\u001b[43mrescaled_beta_grid\u001b[49m\u001b[43m,\u001b[49m\u001b[43m \u001b[49m\u001b[43mrescaled_eps_grid\u001b[49m\u001b[43m,\u001b[49m\u001b[43m \u001b[49m\u001b[38;5;241;43m-\u001b[39;49m\u001b[38;5;241;43m1\u001b[39;49m\u001b[43m)\u001b[49m\n",
      "Cell \u001b[0;32mIn [35], line 12\u001b[0m, in \u001b[0;36mmismatch_beta_e_grid\u001b[0;34m(inj_pars1, inj_pars2, rescaled_beta_grid, rescaled_eps_grid, b, plot, save)\u001b[0m\n\u001b[1;32m     10\u001b[0m inj_pars2[\u001b[38;5;124m'\u001b[39m\u001b[38;5;124mrescaled_beta\u001b[39m\u001b[38;5;124m'\u001b[39m] \u001b[38;5;241m=\u001b[39m rescaled_beta_grid[i,j]\n\u001b[1;32m     11\u001b[0m inj_pars2[\u001b[38;5;124m'\u001b[39m\u001b[38;5;124mrescaled_eps\u001b[39m\u001b[38;5;124m'\u001b[39m]\u001b[38;5;241m=\u001b[39mrescaled_eps_grid[i,j]\n\u001b[0;32m---> 12\u001b[0m mismatchs,shifts,ifos \u001b[38;5;241m=\u001b[39m \u001b[43mcalc_mismatch_injections\u001b[49m\u001b[43m(\u001b[49m\u001b[43minj_pars_gr\u001b[49m\u001b[43m,\u001b[49m\u001b[43m \u001b[49m\u001b[43minj_pars2\u001b[49m\u001b[43m,\u001b[49m\u001b[43m \u001b[49m\u001b[43mwaveform_generator_gr\u001b[49m\u001b[43m,\u001b[49m\u001b[43m \u001b[49m\u001b[43mwaveform_generator_ppe\u001b[49m\u001b[43m,\u001b[49m\u001b[43m \u001b[49m\u001b[43mpsd_HL\u001b[49m\u001b[43m)\u001b[49m\n\u001b[1;32m     13\u001b[0m mismatchs_arr[i,j,:],shifts_arr[i,j,:] \u001b[38;5;241m=\u001b[39m  mismatchs,shifts\n\u001b[1;32m     14\u001b[0m \u001b[38;5;66;03m#print('mismatch for (i,j) -> (', i, j, ') i.e. (',beta_grid[i,j], e_grid[i,j], ' is ', mismatchs)\u001b[39;00m\n",
      "Cell \u001b[0;32mIn [29], line 16\u001b[0m, in \u001b[0;36mcalc_mismatch_injections\u001b[0;34m(inj_pars1, inj_pars2, waveform_generator_gr, waveform_generator_ppe, psd_H, sampling_frequency, duration, flow, fhigh)\u001b[0m\n\u001b[1;32m     12\u001b[0m ifos2\u001b[38;5;241m.\u001b[39mset_strain_data_from_zero_noise(sampling_frequency\u001b[38;5;241m=\u001b[39msampling_frequency, duration\u001b[38;5;241m=\u001b[39mduration,\\\n\u001b[1;32m     13\u001b[0m                                       start_time\u001b[38;5;241m=\u001b[39minj_pars2[\u001b[38;5;124m'\u001b[39m\u001b[38;5;124mgeocent_time\u001b[39m\u001b[38;5;124m'\u001b[39m] \u001b[38;5;241m-\u001b[39m \u001b[38;5;241m6\u001b[39m)\n\u001b[1;32m     15\u001b[0m inj1 \u001b[38;5;241m=\u001b[39m ifos1\u001b[38;5;241m.\u001b[39minject_signal(waveform_generator\u001b[38;5;241m=\u001b[39mwaveform_generator_gr,parameters\u001b[38;5;241m=\u001b[39minj_pars1)\n\u001b[0;32m---> 16\u001b[0m inj2 \u001b[38;5;241m=\u001b[39m \u001b[43mifos2\u001b[49m\u001b[38;5;241;43m.\u001b[39;49m\u001b[43minject_signal\u001b[49m\u001b[43m(\u001b[49m\u001b[43mwaveform_generator\u001b[49m\u001b[38;5;241;43m=\u001b[39;49m\u001b[43mwaveform_generator_ppe\u001b[49m\u001b[43m,\u001b[49m\u001b[43mparameters\u001b[49m\u001b[38;5;241;43m=\u001b[39;49m\u001b[43minj_pars2\u001b[49m\u001b[43m)\u001b[49m\n\u001b[1;32m     17\u001b[0m fs_1_H1 \u001b[38;5;241m=\u001b[39m ifos1[\u001b[38;5;241m0\u001b[39m]\u001b[38;5;241m.\u001b[39mstrain_data\u001b[38;5;241m.\u001b[39mto_pycbc_frequencyseries()\n\u001b[1;32m     19\u001b[0m fs_2_H1 \u001b[38;5;241m=\u001b[39m ifos2[\u001b[38;5;241m0\u001b[39m]\u001b[38;5;241m.\u001b[39mstrain_data\u001b[38;5;241m.\u001b[39mto_pycbc_frequencyseries()\n",
      "File \u001b[0;32m~/miniconda3/envs/igwn-py38/lib/python3.8/site-packages/bilby/gw/detector/networks.py:167\u001b[0m, in \u001b[0;36mInterferometerList.inject_signal\u001b[0;34m(self, parameters, injection_polarizations, waveform_generator, raise_error)\u001b[0m\n\u001b[1;32m    165\u001b[0m \u001b[38;5;28;01mif\u001b[39;00m injection_polarizations \u001b[38;5;129;01mis\u001b[39;00m \u001b[38;5;28;01mNone\u001b[39;00m:\n\u001b[1;32m    166\u001b[0m     \u001b[38;5;28;01mif\u001b[39;00m waveform_generator \u001b[38;5;129;01mis\u001b[39;00m \u001b[38;5;129;01mnot\u001b[39;00m \u001b[38;5;28;01mNone\u001b[39;00m:\n\u001b[0;32m--> 167\u001b[0m         injection_polarizations \u001b[38;5;241m=\u001b[39m \u001b[43mwaveform_generator\u001b[49m\u001b[38;5;241;43m.\u001b[39;49m\u001b[43mfrequency_domain_strain\u001b[49m\u001b[43m(\u001b[49m\n\u001b[1;32m    168\u001b[0m \u001b[43m            \u001b[49m\u001b[43mparameters\u001b[49m\n\u001b[1;32m    169\u001b[0m \u001b[43m        \u001b[49m\u001b[43m)\u001b[49m\n\u001b[1;32m    170\u001b[0m     \u001b[38;5;28;01melse\u001b[39;00m:\n\u001b[1;32m    171\u001b[0m         \u001b[38;5;28;01mraise\u001b[39;00m \u001b[38;5;167;01mValueError\u001b[39;00m(\n\u001b[1;32m    172\u001b[0m             \u001b[38;5;124m\"\u001b[39m\u001b[38;5;124minject_signal needs one of waveform_generator or \u001b[39m\u001b[38;5;124m\"\u001b[39m\n\u001b[1;32m    173\u001b[0m             \u001b[38;5;124m\"\u001b[39m\u001b[38;5;124minjection_polarizations.\u001b[39m\u001b[38;5;124m\"\u001b[39m\n\u001b[1;32m    174\u001b[0m         )\n",
      "File \u001b[0;32m~/miniconda3/envs/igwn-py38/lib/python3.8/site-packages/bilby/gw/waveform_generator.py:124\u001b[0m, in \u001b[0;36mWaveformGenerator.frequency_domain_strain\u001b[0;34m(self, parameters)\u001b[0m\n\u001b[1;32m    102\u001b[0m \u001b[38;5;28;01mdef\u001b[39;00m \u001b[38;5;21mfrequency_domain_strain\u001b[39m(\u001b[38;5;28mself\u001b[39m, parameters\u001b[38;5;241m=\u001b[39m\u001b[38;5;28;01mNone\u001b[39;00m):\n\u001b[1;32m    103\u001b[0m     \u001b[38;5;124;03m\"\"\" Wrapper to source_model.\u001b[39;00m\n\u001b[1;32m    104\u001b[0m \n\u001b[1;32m    105\u001b[0m \u001b[38;5;124;03m    Converts self.parameters with self.parameter_conversion before handing it off to the source model.\u001b[39;00m\n\u001b[0;32m   (...)\u001b[0m\n\u001b[1;32m    122\u001b[0m \n\u001b[1;32m    123\u001b[0m \u001b[38;5;124;03m    \"\"\"\u001b[39;00m\n\u001b[0;32m--> 124\u001b[0m     \u001b[38;5;28;01mreturn\u001b[39;00m \u001b[38;5;28;43mself\u001b[39;49m\u001b[38;5;241;43m.\u001b[39;49m\u001b[43m_calculate_strain\u001b[49m\u001b[43m(\u001b[49m\u001b[43mmodel\u001b[49m\u001b[38;5;241;43m=\u001b[39;49m\u001b[38;5;28;43mself\u001b[39;49m\u001b[38;5;241;43m.\u001b[39;49m\u001b[43mfrequency_domain_source_model\u001b[49m\u001b[43m,\u001b[49m\n\u001b[1;32m    125\u001b[0m \u001b[43m                                  \u001b[49m\u001b[43mmodel_data_points\u001b[49m\u001b[38;5;241;43m=\u001b[39;49m\u001b[38;5;28;43mself\u001b[39;49m\u001b[38;5;241;43m.\u001b[39;49m\u001b[43mfrequency_array\u001b[49m\u001b[43m,\u001b[49m\n\u001b[1;32m    126\u001b[0m \u001b[43m                                  \u001b[49m\u001b[43mparameters\u001b[49m\u001b[38;5;241;43m=\u001b[39;49m\u001b[43mparameters\u001b[49m\u001b[43m,\u001b[49m\n\u001b[1;32m    127\u001b[0m \u001b[43m                                  \u001b[49m\u001b[43mtransformation_function\u001b[49m\u001b[38;5;241;43m=\u001b[39;49m\u001b[43mutils\u001b[49m\u001b[38;5;241;43m.\u001b[39;49m\u001b[43mnfft\u001b[49m\u001b[43m,\u001b[49m\n\u001b[1;32m    128\u001b[0m \u001b[43m                                  \u001b[49m\u001b[43mtransformed_model\u001b[49m\u001b[38;5;241;43m=\u001b[39;49m\u001b[38;5;28;43mself\u001b[39;49m\u001b[38;5;241;43m.\u001b[39;49m\u001b[43mtime_domain_source_model\u001b[49m\u001b[43m,\u001b[49m\n\u001b[1;32m    129\u001b[0m \u001b[43m                                  \u001b[49m\u001b[43mtransformed_model_data_points\u001b[49m\u001b[38;5;241;43m=\u001b[39;49m\u001b[38;5;28;43mself\u001b[39;49m\u001b[38;5;241;43m.\u001b[39;49m\u001b[43mtime_array\u001b[49m\u001b[43m)\u001b[49m\n",
      "File \u001b[0;32m~/miniconda3/envs/igwn-py38/lib/python3.8/site-packages/bilby/gw/waveform_generator.py:164\u001b[0m, in \u001b[0;36mWaveformGenerator._calculate_strain\u001b[0;34m(self, model, model_data_points, transformation_function, transformed_model, transformed_model_data_points, parameters)\u001b[0m\n\u001b[1;32m    161\u001b[0m \u001b[38;5;28;01mdef\u001b[39;00m \u001b[38;5;21m_calculate_strain\u001b[39m(\u001b[38;5;28mself\u001b[39m, model, model_data_points, transformation_function, transformed_model,\n\u001b[1;32m    162\u001b[0m                       transformed_model_data_points, parameters):\n\u001b[1;32m    163\u001b[0m     \u001b[38;5;28;01mif\u001b[39;00m parameters \u001b[38;5;129;01mis\u001b[39;00m \u001b[38;5;129;01mnot\u001b[39;00m \u001b[38;5;28;01mNone\u001b[39;00m:\n\u001b[0;32m--> 164\u001b[0m         \u001b[38;5;28;43mself\u001b[39;49m\u001b[38;5;241;43m.\u001b[39;49m\u001b[43mparameters\u001b[49m \u001b[38;5;241m=\u001b[39m parameters\n\u001b[1;32m    165\u001b[0m     \u001b[38;5;28;01mif\u001b[39;00m \u001b[38;5;28mself\u001b[39m\u001b[38;5;241m.\u001b[39mparameters \u001b[38;5;241m==\u001b[39m \u001b[38;5;28mself\u001b[39m\u001b[38;5;241m.\u001b[39m_cache[\u001b[38;5;124m'\u001b[39m\u001b[38;5;124mparameters\u001b[39m\u001b[38;5;124m'\u001b[39m] \u001b[38;5;129;01mand\u001b[39;00m \u001b[38;5;28mself\u001b[39m\u001b[38;5;241m.\u001b[39m_cache[\u001b[38;5;124m'\u001b[39m\u001b[38;5;124mmodel\u001b[39m\u001b[38;5;124m'\u001b[39m] \u001b[38;5;241m==\u001b[39m model \u001b[38;5;129;01mand\u001b[39;00m \\\n\u001b[1;32m    166\u001b[0m             \u001b[38;5;28mself\u001b[39m\u001b[38;5;241m.\u001b[39m_cache[\u001b[38;5;124m'\u001b[39m\u001b[38;5;124mtransformed_model\u001b[39m\u001b[38;5;124m'\u001b[39m] \u001b[38;5;241m==\u001b[39m transformed_model:\n\u001b[1;32m    167\u001b[0m         \u001b[38;5;28;01mreturn\u001b[39;00m \u001b[38;5;28mself\u001b[39m\u001b[38;5;241m.\u001b[39m_cache[\u001b[38;5;124m'\u001b[39m\u001b[38;5;124mwaveform\u001b[39m\u001b[38;5;124m'\u001b[39m]\n",
      "File \u001b[0;32m~/miniconda3/envs/igwn-py38/lib/python3.8/site-packages/bilby/gw/waveform_generator.py:230\u001b[0m, in \u001b[0;36mWaveformGenerator.parameters\u001b[0;34m(self, parameters)\u001b[0m\n\u001b[1;32m    227\u001b[0m new_parameters, _ \u001b[38;5;241m=\u001b[39m \u001b[38;5;28mself\u001b[39m\u001b[38;5;241m.\u001b[39mparameter_conversion(new_parameters)\n\u001b[1;32m    228\u001b[0m \u001b[38;5;28;01mfor\u001b[39;00m key \u001b[38;5;129;01min\u001b[39;00m \u001b[38;5;28mself\u001b[39m\u001b[38;5;241m.\u001b[39msource_parameter_keys\u001b[38;5;241m.\u001b[39msymmetric_difference(\n\u001b[1;32m    229\u001b[0m         new_parameters):\n\u001b[0;32m--> 230\u001b[0m     \u001b[43mnew_parameters\u001b[49m\u001b[38;5;241;43m.\u001b[39;49m\u001b[43mpop\u001b[49m\u001b[43m(\u001b[49m\u001b[43mkey\u001b[49m\u001b[43m)\u001b[49m\n\u001b[1;32m    231\u001b[0m \u001b[38;5;28mself\u001b[39m\u001b[38;5;241m.\u001b[39m__parameters \u001b[38;5;241m=\u001b[39m new_parameters\n\u001b[1;32m    232\u001b[0m \u001b[38;5;28mself\u001b[39m\u001b[38;5;241m.\u001b[39m__parameters\u001b[38;5;241m.\u001b[39mupdate(\u001b[38;5;28mself\u001b[39m\u001b[38;5;241m.\u001b[39mwaveform_arguments)\n",
      "\u001b[0;31mKeyError\u001b[0m: 'alpha'"
     ]
    }
   ],
   "source": [
    "inj_pars_gr=dict(mass_1 = 35, mass_2 = 30, a_1 = 0.5, a_2 = 0.4, tilt_1 = 3.1, tilt_2 = 2.9, luminosity_distance = 558.553, theta_jn = 2.921, phi_12 = 0.0, phi_jl = 0.0, \n",
    "                phase = 1.893, ra = 1.9, dec = -1.22, psi = 0.8, geocent_time = 1126259462.414)\n",
    "\n",
    "inj_pars_ppe = dict(mass_1 = 35, mass_2 = 30, a_1 = 0.5, a_2 = 0.4, tilt_1 = 3.1, tilt_2 = 2.9, luminosity_distance = 558.553, theta_jn = 2.921, phi_12 = 0.0, phi_jl = 0.0, \n",
    "                phase = 1.893, ra = 1.9, dec = -1.22, psi = 0.8, geocent_time = 1126259462.414, rescaled_beta = 0.3,\n",
    "                   rescaled_eps = 0.1, b = -1, alpha = 0.0, a = 0.0)\n",
    "beta = np.linspace(-3.0,3.0,2)\n",
    "\n",
    "eps = np.linspace(-3.0,3.0, 2)\n",
    "\n",
    "rescaled_beta_grid, rescaled_eps_grid=np.meshgrid(beta,eps)\n",
    "\n",
    "mismatchs_arr,shifts_arr = mismatch_beta_e_grid(inj_pars_gr, inj_pars_gr, rescaled_beta_grid, rescaled_eps_grid, -1)"
   ]
  },
  {
   "cell_type": "code",
   "execution_count": 65,
   "id": "01bfbe7f",
   "metadata": {},
   "outputs": [
    {
     "data": {
      "text/plain": [
       "array([[[nan, nan, nan],\n",
       "        [nan, nan, nan]],\n",
       "\n",
       "       [[nan, nan, nan],\n",
       "        [nan, nan, nan]]])"
      ]
     },
     "execution_count": 65,
     "metadata": {},
     "output_type": "execute_result"
    }
   ],
   "source": [
    "mismatchs_arr"
   ]
  },
  {
   "cell_type": "code",
   "execution_count": 102,
   "id": "69e6c548",
   "metadata": {},
   "outputs": [],
   "source": [
    "import bilby\n",
    "import numpy as np\n",
    "class DiscreteUniform(bilby.prior.Uniform):\n",
    "\n",
    "    def __init__(self, minimum, maximum, name=None, latex_label=None,\n",
    "                 unit=None, boundary=None):\n",
    "        \"\"\"Log-Uniform prior with bounds\n",
    "        Parameters\n",
    "        ==========\n",
    "        minimum: int\n",
    "            See superclass\n",
    "        maximum: int\n",
    "            See superclass\n",
    "        name: str\n",
    "            See superclass\n",
    "        latex_label: str\n",
    "            See superclass\n",
    "        unit: str\n",
    "            See superclass\n",
    "        boundary: str\n",
    "            See superclass\n",
    "        \"\"\"\n",
    "        if not isinstance(minimum, int) or not isinstance(maximum, int):\n",
    "            raise ValueError(\"minimum/maximum must be integers\")\n",
    "            \n",
    "        super(DiscreteUniform, self).__init__(name=name, latex_label=latex_label, unit=unit,\n",
    "                                         minimum=minimum, maximum=maximum+1, boundary=boundary)\n",
    "        \n",
    "        \n",
    "    def rescale(self, val):\n",
    "        \"\"\"\n",
    "        'Rescale' a sample from the unit line element to the power-law prior.\n",
    "        This maps to the inverse CDF. This has been analytically solved for this case.\n",
    "        Parameters\n",
    "        ==========\n",
    "        val: Union[float, int, array_like]\n",
    "            Uniform probability\n",
    "        Returns\n",
    "        =======\n",
    "        Union[float, array_like]: Rescaled probability\n",
    "        \"\"\"\n",
    "        value = np.floor(self.minimum + val * (self.maximum  - self.minimum))\n",
    "        value = np.where(value == 0, np.floor(np.random.uniform(low=self.minimum, high=self.maximum, size=1))[0], value)\n",
    "        \n",
    "            \n",
    "        return value"
   ]
  },
  {
   "cell_type": "code",
   "execution_count": 103,
   "id": "0ce1cdea",
   "metadata": {},
   "outputs": [],
   "source": [
    "custom_prior = DiscreteUniform(name='billy', latex_label='$billy$', minimum=-6, maximum=3)\n",
    "\n",
    "# Example usage to sample from the prior\n",
    "samples = custom_prior.sample(100)"
   ]
  },
  {
   "cell_type": "code",
   "execution_count": 106,
   "id": "0b8a0953",
   "metadata": {},
   "outputs": [
    {
     "data": {
      "text/plain": [
       "array([-4., -2., -1., -3.,  3.,  1.,  1., -4., -2., -5., -2.,  3.,  1.,\n",
       "        3., -5.,  3., -4., -3.,  3., -1., -3., -5.,  2.,  2., -3.,  3.,\n",
       "       -5., -5., -1., -3.,  3., -5.,  3., -1., -1., -2.,  1., -4.,  2.,\n",
       "       -5., -5.,  1., -6., -4., -4.,  3.,  3., -3., -3., -3., -5., -6.,\n",
       "       -3., -3.,  2., -5.,  1., -1., -2., -3., -1., -1., -2.,  3., -4.,\n",
       "       -3., -2.,  1., -3., -3.,  1.,  2., -3., -2., -6., -6., -5.,  2.,\n",
       "        2., -5.,  3., -3., -3., -6.,  3., -3.,  1., -3.,  1., -4., -5.,\n",
       "       -4., -4., -3., -3.,  3.,  1., -5., -5.,  3.])"
      ]
     },
     "execution_count": 106,
     "metadata": {},
     "output_type": "execute_result"
    }
   ],
   "source": [
    "samples"
   ]
  },
  {
   "cell_type": "code",
   "execution_count": 98,
   "id": "c2b17b91",
   "metadata": {},
   "outputs": [
    {
     "data": {
      "text/plain": [
       "-1.0"
      ]
     },
     "execution_count": 98,
     "metadata": {},
     "output_type": "execute_result"
    }
   ],
   "source": [
    "random_number = np.floor(np.random.uniform(low=-7, high=7, size=1))\n",
    "random_number[0]"
   ]
  },
  {
   "cell_type": "code",
   "execution_count": 3,
   "id": "0d17ee42",
   "metadata": {},
   "outputs": [],
   "source": [
    "from prior import DiscreteUniform"
   ]
  },
  {
   "cell_type": "code",
   "execution_count": 4,
   "id": "a3903ca2",
   "metadata": {},
   "outputs": [],
   "source": [
    "import sys\n",
    "sys.path.append('/mnt/pfs/akash.mishra/ppe_model/')\n",
    "import numpy as np\n",
    "import matplotlib.pyplot as plt\n",
    "import waveform_model\n",
    "# import pycbc.ppe.ppe_tools as ppe_tools\n",
    "\n",
    "import pycbc\n",
    "import bilby\n",
    "import numpy as np\n",
    "import matplotlib.pylab as plt\n",
    "import pycbc.psd\n",
    "from waveform_model import ppe_c1_eps_model_rescaled\n",
    "np.set_printoptions(threshold=sys.maxsize)\n",
    "import pycbc.waveform as wf\n",
    "from prior import DiscreteUniform\n",
    "import bilby\n",
    "from gwpy.timeseries import TimeSeries\n",
    "\n",
    "logger = bilby.core.utils.logger\n",
    "outdir = \"results\"\n",
    "label = \"ppe_inj\"\n",
    "bilby.core.utils.setup_logger(outdir=outdir, label=label)\n",
    "\n",
    "\n"
   ]
  },
  {
   "cell_type": "code",
   "execution_count": 5,
   "id": "593431ee",
   "metadata": {},
   "outputs": [
    {
     "name": "stderr",
     "output_type": "stream",
     "text": [
      "00:34 bilby INFO    : Waveform generator initiated with\n",
      "  frequency_domain_source_model: waveform_model.ppe_c1_eps_model_rescaled\n",
      "  time_domain_source_model: None\n",
      "  parameter_conversion: bilby.gw.conversion.convert_to_lal_binary_black_hole_parameters\n",
      "00:34 bilby INFO    : Injected signal in H1:\n",
      "00:34 bilby INFO    :   optimal SNR = 52.35\n",
      "00:34 bilby INFO    :   matched filter SNR = 50.83-0.03j\n",
      "00:34 bilby INFO    :   mass_1 = 36.0\n",
      "00:34 bilby INFO    :   mass_2 = 29.0\n",
      "00:34 bilby INFO    :   a_1 = 0.4\n",
      "00:34 bilby INFO    :   a_2 = 0.3\n",
      "00:34 bilby INFO    :   tilt_1 = 0.5\n",
      "00:34 bilby INFO    :   tilt_2 = 1.0\n",
      "00:34 bilby INFO    :   phi_12 = 1.7\n",
      "00:34 bilby INFO    :   phi_jl = 0.3\n",
      "00:34 bilby INFO    :   luminosity_distance = 450.0\n",
      "00:34 bilby INFO    :   theta_jn = 0.4\n",
      "00:34 bilby INFO    :   psi = 2.659\n",
      "00:34 bilby INFO    :   phase = 1.3\n",
      "00:34 bilby INFO    :   geocent_time = 1126259642.413\n",
      "00:34 bilby INFO    :   ra = 1.375\n",
      "00:34 bilby INFO    :   dec = -1.2108\n",
      "00:34 bilby INFO    :   a = 0.0\n",
      "00:34 bilby INFO    :   alpha = 0.0\n",
      "00:34 bilby INFO    :   b = -2\n",
      "00:34 bilby INFO    :   rescaled_beta = 1.3\n",
      "00:34 bilby INFO    :   rescaled_eps = -0.5\n",
      "00:34 bilby INFO    : Injected signal in L1:\n",
      "00:34 bilby INFO    :   optimal SNR = 42.35\n",
      "00:34 bilby INFO    :   matched filter SNR = 41.61+0.58j\n",
      "00:34 bilby INFO    :   mass_1 = 36.0\n",
      "00:34 bilby INFO    :   mass_2 = 29.0\n",
      "00:34 bilby INFO    :   a_1 = 0.4\n",
      "00:34 bilby INFO    :   a_2 = 0.3\n",
      "00:34 bilby INFO    :   tilt_1 = 0.5\n",
      "00:34 bilby INFO    :   tilt_2 = 1.0\n",
      "00:34 bilby INFO    :   phi_12 = 1.7\n",
      "00:34 bilby INFO    :   phi_jl = 0.3\n",
      "00:34 bilby INFO    :   luminosity_distance = 450.0\n",
      "00:34 bilby INFO    :   theta_jn = 0.4\n",
      "00:34 bilby INFO    :   psi = 2.659\n",
      "00:34 bilby INFO    :   phase = 1.3\n",
      "00:34 bilby INFO    :   geocent_time = 1126259642.413\n",
      "00:34 bilby INFO    :   ra = 1.375\n",
      "00:34 bilby INFO    :   dec = -1.2108\n",
      "00:34 bilby INFO    :   a = 0.0\n",
      "00:34 bilby INFO    :   alpha = 0.0\n",
      "00:34 bilby INFO    :   b = -2\n",
      "00:34 bilby INFO    :   rescaled_beta = 1.3\n",
      "00:34 bilby INFO    :   rescaled_eps = -0.5\n"
     ]
    },
    {
     "data": {
      "text/plain": [
       "[{'plus': array([ 0.00000000e+00+0.00000000e+00j,\n",
       "         -0.00000000e+00+0.00000000e+00j,\n",
       "          0.00000000e+00-0.00000000e+00j, ...,\n",
       "          1.22436076e-27+2.82397881e-27j,\n",
       "          1.20647944e-27+2.80866600e-27j,\n",
       "          0.00000000e+00+0.00000000e+00j]),\n",
       "  'cross': array([0.00000000e+00+0.00000000e+00j,\n",
       "         0.00000000e+00-0.00000000e+00j,\n",
       "         0.00000000e+00+0.00000000e+00j, ...,\n",
       "         2.81366583e-27-1.23433195e-27j,\n",
       "         2.79845735e-27-1.21641548e-27j,\n",
       "         0.00000000e+00+0.00000000e+00j])},\n",
       " {'plus': array([ 0.00000000e+00+0.00000000e+00j,\n",
       "         -0.00000000e+00+0.00000000e+00j,\n",
       "          0.00000000e+00-0.00000000e+00j, ...,\n",
       "          1.22436076e-27+2.82397881e-27j,\n",
       "          1.20647944e-27+2.80866600e-27j,\n",
       "          0.00000000e+00+0.00000000e+00j]),\n",
       "  'cross': array([0.00000000e+00+0.00000000e+00j,\n",
       "         0.00000000e+00-0.00000000e+00j,\n",
       "         0.00000000e+00+0.00000000e+00j, ...,\n",
       "         2.81366583e-27-1.23433195e-27j,\n",
       "         2.79845735e-27-1.21641548e-27j,\n",
       "         0.00000000e+00+0.00000000e+00j])}]"
      ]
     },
     "execution_count": 5,
     "metadata": {},
     "output_type": "execute_result"
    }
   ],
   "source": [
    "\n",
    "# Set up a random seed for result reproducibility.  This is optional!\n",
    "np.random.seed(88170235)\n",
    "\n",
    "duration = 4.0\n",
    "sampling_frequency = 1024\n",
    "\n",
    "\n",
    "injection_parameters = dict(\n",
    "    mass_1=36.0,\n",
    "    mass_2=29.0,\n",
    "    a_1=0.4,\n",
    "    a_2=0.3,\n",
    "    tilt_1=0.5,\n",
    "    tilt_2=1.0,\n",
    "    phi_12=1.7,\n",
    "    phi_jl=0.3,\n",
    "    luminosity_distance=450.0,\n",
    "    theta_jn=0.4,\n",
    "    psi=2.659,\n",
    "    phase=1.3,\n",
    "    geocent_time=1126259642.413,\n",
    "    ra=1.375,\n",
    "    dec=-1.2108,\n",
    "    a = 0.0,\n",
    "    alpha = 0.0,\n",
    "    b = -2,\n",
    "    rescaled_beta = 1.3,\n",
    "    rescaled_eps = -0.5,\n",
    ")\n",
    "\n",
    "waveform_arguments = dict(\n",
    "    waveform_approximant=\"IMRPhenomXPHM\",\n",
    "    reference_frequency=50.0,\n",
    "    minimum_frequency=20.0,\n",
    ")\n",
    "\n",
    "# Create the waveform_generator using a LAL BinaryBlackHole source function\n",
    "# the generator will convert all the parameters\n",
    "waveform_generator = bilby.gw.WaveformGenerator(\n",
    "    duration=duration,\n",
    "    sampling_frequency=sampling_frequency,\n",
    "    frequency_domain_source_model=ppe_c1_eps_model_rescaled,\n",
    "    parameter_conversion=bilby.gw.conversion.convert_to_lal_binary_black_hole_parameters,\n",
    "    waveform_arguments=waveform_arguments,\n",
    ")\n",
    "\n",
    "ifos = bilby.gw.detector.InterferometerList([\"H1\", \"L1\"])\n",
    "ifos.set_strain_data_from_power_spectral_densities(\n",
    "    sampling_frequency=sampling_frequency,\n",
    "    duration=duration,\n",
    "    start_time=injection_parameters[\"geocent_time\"] - 2,\n",
    ")\n",
    "\n",
    "ifos.inject_signal(\n",
    "    waveform_generator=waveform_generator, parameters=injection_parameters\n",
    ")"
   ]
  },
  {
   "cell_type": "code",
   "execution_count": 6,
   "id": "6edf5665",
   "metadata": {},
   "outputs": [
    {
     "name": "stderr",
     "output_type": "stream",
     "text": [
      "00:34 bilby INFO    : No prior given, using default BBH priors in /home/akash.mishra/miniconda3/envs/igwn-py38_td/lib/python3.8/site-packages/bilby/gw/prior_files/precessing_spins_bbh.prior.\n"
     ]
    }
   ],
   "source": [
    "priors = bilby.gw.prior.BBHPriorDict()\n",
    "priors[\"geocent_time\"] = bilby.core.prior.Uniform(\n",
    "    minimum=injection_parameters[\"geocent_time\"] - 0.1,\n",
    "    maximum=injection_parameters[\"geocent_time\"] + 0.1,\n",
    "    name=\"geocent_time\",\n",
    "    latex_label=\"$t_c$\",\n",
    "    unit=\"$s$\",\n",
    ")\n",
    "priors['mass_1'].maximum = 70\n",
    "priors['mass_2'].maximum = 70\n",
    "priors['luminosity_distance'].maximum = 1000\n",
    "priors['luminosity_distance'].minimum = 100\n",
    "\n",
    "priors['alpha'] = 0.0\n",
    "priors['a'] = 0.0\n",
    "priors['b']=DiscreteUniform(-7,4,name='b', latex_label='$b$')\n",
    "### ppe recovery\n",
    "#priors['b']=DiscreteUniform(-7,1,name='b', latex_label='$b$')\n",
    "priors['rescaled_beta']=bilby.prior.Uniform(-5.0,5.0,name='beta', latex_label='$\\beta$')\n",
    "priors['rescaled_eps']=bilby.prior.Uniform(-5.0,5.0,name='delta_eps', latex_label='$\\delta$')"
   ]
  },
  {
   "cell_type": "code",
   "execution_count": null,
   "id": "6660e70e",
   "metadata": {},
   "outputs": [
    {
     "name": "stderr",
     "output_type": "stream",
     "text": [
      "00:34 bilby INFO    : Running for label 'ppe_inj', output will be saved to 'results'\n",
      "00:34 bilby INFO    : Using lal version 7.3.1\n",
      "00:34 bilby INFO    : Using lal git version Branch: None;Tag: lal-v7.3.1;Id: ba834368942ae59461ae5154fcf542c4d5a3b5b2;;Builder: Adam Mercer <adam.mercer@ligo.org>;Repository status: CLEAN: All modifications committed\n",
      "00:34 bilby INFO    : Using lalsimulation version 5.2.0\n",
      "00:34 bilby INFO    : Using lalsimulation git version Branch: None;Tag: lalsimulation-v5.2.0;Id: 6d939723e10b22ed8775552be67ae1e2004ec9e6;;Builder: Adam Mercer <adam.mercer@ligo.org>;Repository status: CLEAN: All modifications committed\n",
      "00:34 bilby INFO    : Search parameters:\n",
      "00:34 bilby INFO    :   mass_ratio = Uniform(minimum=0.125, maximum=1, name='mass_ratio', latex_label='$q$', unit=None, boundary=None)\n",
      "00:34 bilby INFO    :   chirp_mass = Uniform(minimum=25, maximum=100, name='chirp_mass', latex_label='$\\\\mathcal{M}$', unit=None, boundary=None)\n",
      "00:34 bilby INFO    :   luminosity_distance = UniformSourceFrame(minimum=100, maximum=1000, cosmology=FlatLambdaCDM(name=\"Planck15\", H0=67.74 km / (Mpc s), Om0=0.3075, Tcmb0=2.7255 K, Neff=3.046, m_nu=[0.   0.   0.06] eV, Ob0=0.0486), name='luminosity_distance', latex_label='$d_L$', unit=Unit(\"Mpc\"), boundary=None)\n",
      "00:34 bilby INFO    :   dec = Cosine(minimum=-1.5707963267948966, maximum=1.5707963267948966, name='dec', latex_label='$\\\\mathrm{DEC}$', unit=None, boundary=None)\n",
      "00:34 bilby INFO    :   ra = Uniform(minimum=0, maximum=6.283185307179586, name='ra', latex_label='$\\\\mathrm{RA}$', unit=None, boundary='periodic')\n",
      "00:34 bilby INFO    :   theta_jn = Sine(minimum=0, maximum=3.141592653589793, name='theta_jn', latex_label='$\\\\theta_{JN}$', unit=None, boundary=None)\n",
      "00:34 bilby INFO    :   psi = Uniform(minimum=0, maximum=3.141592653589793, name='psi', latex_label='$\\\\psi$', unit=None, boundary='periodic')\n",
      "00:34 bilby INFO    :   phase = Uniform(minimum=0, maximum=6.283185307179586, name='phase', latex_label='$\\\\phi$', unit=None, boundary='periodic')\n",
      "00:34 bilby INFO    :   a_1 = Uniform(minimum=0, maximum=0.99, name='a_1', latex_label='$a_1$', unit=None, boundary=None)\n",
      "00:34 bilby INFO    :   a_2 = Uniform(minimum=0, maximum=0.99, name='a_2', latex_label='$a_2$', unit=None, boundary=None)\n",
      "00:34 bilby INFO    :   tilt_1 = Sine(minimum=0, maximum=3.141592653589793, name='tilt_1', latex_label='$\\\\theta_1$', unit=None, boundary=None)\n",
      "00:34 bilby INFO    :   tilt_2 = Sine(minimum=0, maximum=3.141592653589793, name='tilt_2', latex_label='$\\\\theta_2$', unit=None, boundary=None)\n",
      "00:34 bilby INFO    :   phi_12 = Uniform(minimum=0, maximum=6.283185307179586, name='phi_12', latex_label='$\\\\Delta\\\\phi$', unit=None, boundary='periodic')\n",
      "00:34 bilby INFO    :   phi_jl = Uniform(minimum=0, maximum=6.283185307179586, name='phi_jl', latex_label='$\\\\phi_{JL}$', unit=None, boundary='periodic')\n",
      "00:34 bilby INFO    :   geocent_time = Uniform(minimum=1126259642.3130002, maximum=1126259642.513, name='geocent_time', latex_label='$t_c$', unit='$s$', boundary=None)\n",
      "00:34 bilby INFO    :   b = DiscreteUniform(minimum=-7, maximum=5, name='b', latex_label='$b$', unit=None, boundary=None)\n",
      "00:34 bilby INFO    :   rescaled_beta = Uniform(minimum=-5.0, maximum=5.0, name='beta', latex_label='$\\x08eta$', unit=None, boundary=None)\n",
      "00:34 bilby INFO    :   rescaled_eps = Uniform(minimum=-5.0, maximum=5.0, name='delta_eps', latex_label='$\\\\delta$', unit=None, boundary=None)\n",
      "00:34 bilby INFO    :   mass_1 = Constraint(minimum=5, maximum=70, name='mass_1', latex_label='$m_1$', unit=None)\n",
      "00:34 bilby INFO    :   mass_2 = Constraint(minimum=5, maximum=70, name='mass_2', latex_label='$m_2$', unit=None)\n",
      "00:34 bilby INFO    :   alpha = 0.0\n",
      "00:34 bilby INFO    :   a = 0.0\n",
      "00:34 bilby INFO    : Single likelihood evaluation took 1.536e-02 s\n"
     ]
    },
    {
     "data": {
      "application/vnd.jupyter.widget-view+json": {
       "model_id": "5e8afba5de0f447b94bb087362224a1a",
       "version_major": 2,
       "version_minor": 0
      },
      "text/plain": [
       "0it [00:00, ?it/s]"
      ]
     },
     "metadata": {},
     "output_type": "display_data"
    },
    {
     "name": "stderr",
     "output_type": "stream",
     "text": [
      "00:34 bilby INFO    : Using sampler Dynesty with kwargs {'bound': 'multi', 'sample': 'unif', 'verbose': True, 'periodic': None, 'reflective': None, 'check_point_delta_t': 1800, 'nlive': 1500, 'first_update': None, 'walks': 100, 'npdim': None, 'rstate': None, 'queue_size': 1, 'pool': None, 'use_pool': None, 'live_points': None, 'logl_args': None, 'logl_kwargs': None, 'ptform_args': None, 'ptform_kwargs': None, 'enlarge': 1.5, 'bootstrap': None, 'vol_dec': 0.5, 'vol_check': 8.0, 'facc': 0.2, 'slices': 5, 'update_interval': 900, 'print_func': <bound method Dynesty._print_func of <bilby.core.sampler.dynesty.Dynesty object at 0x7fc14a81cd30>>, 'dlogz': 0.1, 'maxiter': None, 'maxcall': None, 'logl_max': inf, 'add_live': True, 'print_progress': True, 'save_bounds': False, 'n_effective': None, 'maxmcmc': 5000, 'nact': 5, 'print_method': 'tqdm'}\n",
      "00:34 bilby INFO    : Checkpoint every check_point_delta_t = 600s\n",
      "00:34 bilby INFO    : Using dynesty version 1.0.1\n",
      "00:34 bilby INFO    : Reading resume file results/ppe_inj_resume.pickle\n",
      "00:34 bilby WARNING : The bilby version has changed between runs. This may cause unpredictable behaviour and/or failure. Old version = 1.1.5: (CLEAN) 88cf7e2 2022-01-24 22:26:41 +0000, new version = 1.1.5: release.\n",
      "00:34 bilby INFO    : Resume file successfully loaded.\n"
     ]
    }
   ],
   "source": [
    "likelihood = bilby.gw.GravitationalWaveTransient(\n",
    "    interferometers=ifos,\n",
    "    waveform_generator=waveform_generator,\n",
    "    priors=priors,\n",
    "    distance_marginalization=False,\n",
    "    phase_marginalization=False,\n",
    "    time_marginalization=False,\n",
    "\n",
    ")\n",
    "\n",
    "result = bilby.run_sampler(\n",
    "    likelihood=likelihood,\n",
    "    priors=priors,\n",
    "    sampler=\"dynesty\",\n",
    "    nlive=1500,\n",
    "    sample = 'unif',\n",
    "    injection_parameters=injection_parameters,\n",
    "    outdir=outdir,\n",
    "    label=label,\n",
    "\n",
    "    \n",
    ")"
   ]
  },
  {
   "cell_type": "code",
   "execution_count": 16,
   "id": "748bdf4c",
   "metadata": {},
   "outputs": [
    {
     "name": "stdout",
     "output_type": "stream",
     "text": [
      "<dynesty.nestedsamplers.MultiEllipsoidSampler object at 0x7f68ad82b250>\n"
     ]
    }
   ],
   "source": [
    "import pickle\n",
    "\n",
    "# Specify the path to your .pickle file\n",
    "file_path = '/mnt/pfs/akash.mishra/ppe_model/job_files/injection_studies/rescaled_parameters/b_2_beta13_eps_05/results/ppe_inj_resume.pickle'\n",
    "\n",
    "# Open and read the .pickle file\n",
    "with open(file_path, 'rb') as file:\n",
    "    data = pickle.load(file)\n",
    "\n",
    "# Process or use the data as needed\n",
    "print(data)\n"
   ]
  },
  {
   "cell_type": "code",
   "execution_count": 17,
   "id": "6ee88aad",
   "metadata": {},
   "outputs": [],
   "source": [
    "dres = data.results"
   ]
  },
  {
   "cell_type": "code",
   "execution_count": 23,
   "id": "4c52e092",
   "metadata": {},
   "outputs": [
    {
     "ename": "LinAlgError",
     "evalue": "singular matrix",
     "output_type": "error",
     "traceback": [
      "\u001b[0;31m---------------------------------------------------------------------------\u001b[0m",
      "\u001b[0;31mLinAlgError\u001b[0m                               Traceback (most recent call last)",
      "Cell \u001b[0;32mIn [23], line 2\u001b[0m\n\u001b[1;32m      1\u001b[0m \u001b[38;5;28;01mfrom\u001b[39;00m \u001b[38;5;21;01mdynesty\u001b[39;00m \u001b[38;5;28;01mimport\u001b[39;00m plotting \u001b[38;5;28;01mas\u001b[39;00m dyplot\n\u001b[0;32m----> 2\u001b[0m \u001b[43mdyplot\u001b[49m\u001b[38;5;241;43m.\u001b[39;49m\u001b[43mrunplot\u001b[49m\u001b[43m(\u001b[49m\u001b[43mdres\u001b[49m\u001b[43m)\u001b[49m\n\u001b[1;32m      3\u001b[0m plt\u001b[38;5;241m.\u001b[39mtight_layout()\n",
      "File \u001b[0;32m~/miniconda3/envs/igwn-py38/lib/python3.8/site-packages/dynesty/plotting.py:182\u001b[0m, in \u001b[0;36mrunplot\u001b[0;34m(results, span, logplot, kde, nkde, color, plot_kwargs, label_kwargs, lnz_error, lnz_truth, truth_color, truth_kwargs, max_x_ticks, max_y_ticks, use_math_text, mark_final_live, fig)\u001b[0m\n\u001b[1;32m    179\u001b[0m data \u001b[38;5;241m=\u001b[39m [nlive, np\u001b[38;5;241m.\u001b[39mexp(logl), np\u001b[38;5;241m.\u001b[39mexp(logwt), np\u001b[38;5;241m.\u001b[39mexp(logz)]\n\u001b[1;32m    180\u001b[0m \u001b[38;5;28;01mif\u001b[39;00m kde:\n\u001b[1;32m    181\u001b[0m     \u001b[38;5;66;03m# Derive kernel density estimate.\u001b[39;00m\n\u001b[0;32m--> 182\u001b[0m     wt_kde \u001b[38;5;241m=\u001b[39m \u001b[43mgaussian_kde\u001b[49m\u001b[43m(\u001b[49m\u001b[43mresample_equal\u001b[49m\u001b[43m(\u001b[49m\u001b[38;5;241;43m-\u001b[39;49m\u001b[43mlogvol\u001b[49m\u001b[43m,\u001b[49m\u001b[43m \u001b[49m\u001b[43mdata\u001b[49m\u001b[43m[\u001b[49m\u001b[38;5;241;43m2\u001b[39;49m\u001b[43m]\u001b[49m\u001b[43m)\u001b[49m\u001b[43m)\u001b[49m  \u001b[38;5;66;03m# KDE\u001b[39;00m\n\u001b[1;32m    183\u001b[0m     logvol_new \u001b[38;5;241m=\u001b[39m np\u001b[38;5;241m.\u001b[39mlinspace(logvol[\u001b[38;5;241m0\u001b[39m], logvol[\u001b[38;5;241m-\u001b[39m\u001b[38;5;241m1\u001b[39m], nkde)  \u001b[38;5;66;03m# resample\u001b[39;00m\n\u001b[1;32m    184\u001b[0m     data[\u001b[38;5;241m2\u001b[39m] \u001b[38;5;241m=\u001b[39m wt_kde\u001b[38;5;241m.\u001b[39mpdf(\u001b[38;5;241m-\u001b[39mlogvol_new)  \u001b[38;5;66;03m# evaluate KDE PDF\u001b[39;00m\n",
      "File \u001b[0;32m~/miniconda3/envs/igwn-py38/lib/python3.8/site-packages/scipy/stats/_kde.py:207\u001b[0m, in \u001b[0;36mgaussian_kde.__init__\u001b[0;34m(self, dataset, bw_method, weights)\u001b[0m\n\u001b[1;32m    204\u001b[0m         \u001b[38;5;28;01mraise\u001b[39;00m \u001b[38;5;167;01mValueError\u001b[39;00m(\u001b[38;5;124m\"\u001b[39m\u001b[38;5;124m`weights` input should be of length n\u001b[39m\u001b[38;5;124m\"\u001b[39m)\n\u001b[1;32m    205\u001b[0m     \u001b[38;5;28mself\u001b[39m\u001b[38;5;241m.\u001b[39m_neff \u001b[38;5;241m=\u001b[39m \u001b[38;5;241m1\u001b[39m\u001b[38;5;241m/\u001b[39m\u001b[38;5;28msum\u001b[39m(\u001b[38;5;28mself\u001b[39m\u001b[38;5;241m.\u001b[39m_weights\u001b[38;5;241m*\u001b[39m\u001b[38;5;241m*\u001b[39m\u001b[38;5;241m2\u001b[39m)\n\u001b[0;32m--> 207\u001b[0m \u001b[38;5;28;43mself\u001b[39;49m\u001b[38;5;241;43m.\u001b[39;49m\u001b[43mset_bandwidth\u001b[49m\u001b[43m(\u001b[49m\u001b[43mbw_method\u001b[49m\u001b[38;5;241;43m=\u001b[39;49m\u001b[43mbw_method\u001b[49m\u001b[43m)\u001b[49m\n",
      "File \u001b[0;32m~/miniconda3/envs/igwn-py38/lib/python3.8/site-packages/scipy/stats/_kde.py:555\u001b[0m, in \u001b[0;36mgaussian_kde.set_bandwidth\u001b[0;34m(self, bw_method)\u001b[0m\n\u001b[1;32m    551\u001b[0m     msg \u001b[38;5;241m=\u001b[39m \u001b[38;5;124m\"\u001b[39m\u001b[38;5;124m`bw_method` should be \u001b[39m\u001b[38;5;124m'\u001b[39m\u001b[38;5;124mscott\u001b[39m\u001b[38;5;124m'\u001b[39m\u001b[38;5;124m, \u001b[39m\u001b[38;5;124m'\u001b[39m\u001b[38;5;124msilverman\u001b[39m\u001b[38;5;124m'\u001b[39m\u001b[38;5;124m, a scalar \u001b[39m\u001b[38;5;124m\"\u001b[39m \\\n\u001b[1;32m    552\u001b[0m           \u001b[38;5;124m\"\u001b[39m\u001b[38;5;124mor a callable.\u001b[39m\u001b[38;5;124m\"\u001b[39m\n\u001b[1;32m    553\u001b[0m     \u001b[38;5;28;01mraise\u001b[39;00m \u001b[38;5;167;01mValueError\u001b[39;00m(msg)\n\u001b[0;32m--> 555\u001b[0m \u001b[38;5;28;43mself\u001b[39;49m\u001b[38;5;241;43m.\u001b[39;49m\u001b[43m_compute_covariance\u001b[49m\u001b[43m(\u001b[49m\u001b[43m)\u001b[49m\n",
      "File \u001b[0;32m~/miniconda3/envs/igwn-py38/lib/python3.8/site-packages/scipy/stats/_kde.py:567\u001b[0m, in \u001b[0;36mgaussian_kde._compute_covariance\u001b[0;34m(self)\u001b[0m\n\u001b[1;32m    563\u001b[0m \u001b[38;5;28;01mif\u001b[39;00m \u001b[38;5;129;01mnot\u001b[39;00m \u001b[38;5;28mhasattr\u001b[39m(\u001b[38;5;28mself\u001b[39m, \u001b[38;5;124m'\u001b[39m\u001b[38;5;124m_data_inv_cov\u001b[39m\u001b[38;5;124m'\u001b[39m):\n\u001b[1;32m    564\u001b[0m     \u001b[38;5;28mself\u001b[39m\u001b[38;5;241m.\u001b[39m_data_covariance \u001b[38;5;241m=\u001b[39m atleast_2d(cov(\u001b[38;5;28mself\u001b[39m\u001b[38;5;241m.\u001b[39mdataset, rowvar\u001b[38;5;241m=\u001b[39m\u001b[38;5;241m1\u001b[39m,\n\u001b[1;32m    565\u001b[0m                                        bias\u001b[38;5;241m=\u001b[39m\u001b[38;5;28;01mFalse\u001b[39;00m,\n\u001b[1;32m    566\u001b[0m                                        aweights\u001b[38;5;241m=\u001b[39m\u001b[38;5;28mself\u001b[39m\u001b[38;5;241m.\u001b[39mweights))\n\u001b[0;32m--> 567\u001b[0m     \u001b[38;5;28mself\u001b[39m\u001b[38;5;241m.\u001b[39m_data_inv_cov \u001b[38;5;241m=\u001b[39m \u001b[43mlinalg\u001b[49m\u001b[38;5;241;43m.\u001b[39;49m\u001b[43minv\u001b[49m\u001b[43m(\u001b[49m\u001b[38;5;28;43mself\u001b[39;49m\u001b[38;5;241;43m.\u001b[39;49m\u001b[43m_data_covariance\u001b[49m\u001b[43m)\u001b[49m\n\u001b[1;32m    569\u001b[0m \u001b[38;5;28mself\u001b[39m\u001b[38;5;241m.\u001b[39mcovariance \u001b[38;5;241m=\u001b[39m \u001b[38;5;28mself\u001b[39m\u001b[38;5;241m.\u001b[39m_data_covariance \u001b[38;5;241m*\u001b[39m \u001b[38;5;28mself\u001b[39m\u001b[38;5;241m.\u001b[39mfactor\u001b[38;5;241m*\u001b[39m\u001b[38;5;241m*\u001b[39m\u001b[38;5;241m2\u001b[39m\n\u001b[1;32m    570\u001b[0m \u001b[38;5;28mself\u001b[39m\u001b[38;5;241m.\u001b[39minv_cov \u001b[38;5;241m=\u001b[39m \u001b[38;5;28mself\u001b[39m\u001b[38;5;241m.\u001b[39m_data_inv_cov \u001b[38;5;241m/\u001b[39m \u001b[38;5;28mself\u001b[39m\u001b[38;5;241m.\u001b[39mfactor\u001b[38;5;241m*\u001b[39m\u001b[38;5;241m*\u001b[39m\u001b[38;5;241m2\u001b[39m\n",
      "File \u001b[0;32m~/miniconda3/envs/igwn-py38/lib/python3.8/site-packages/scipy/linalg/_basic.py:968\u001b[0m, in \u001b[0;36minv\u001b[0;34m(a, overwrite_a, check_finite)\u001b[0m\n\u001b[1;32m    966\u001b[0m     inv_a, info \u001b[38;5;241m=\u001b[39m getri(lu, piv, lwork\u001b[38;5;241m=\u001b[39mlwork, overwrite_lu\u001b[38;5;241m=\u001b[39m\u001b[38;5;241m1\u001b[39m)\n\u001b[1;32m    967\u001b[0m \u001b[38;5;28;01mif\u001b[39;00m info \u001b[38;5;241m>\u001b[39m \u001b[38;5;241m0\u001b[39m:\n\u001b[0;32m--> 968\u001b[0m     \u001b[38;5;28;01mraise\u001b[39;00m LinAlgError(\u001b[38;5;124m\"\u001b[39m\u001b[38;5;124msingular matrix\u001b[39m\u001b[38;5;124m\"\u001b[39m)\n\u001b[1;32m    969\u001b[0m \u001b[38;5;28;01mif\u001b[39;00m info \u001b[38;5;241m<\u001b[39m \u001b[38;5;241m0\u001b[39m:\n\u001b[1;32m    970\u001b[0m     \u001b[38;5;28;01mraise\u001b[39;00m \u001b[38;5;167;01mValueError\u001b[39;00m(\u001b[38;5;124m'\u001b[39m\u001b[38;5;124millegal value in \u001b[39m\u001b[38;5;132;01m%d\u001b[39;00m\u001b[38;5;124m-th argument of internal \u001b[39m\u001b[38;5;124m'\u001b[39m\n\u001b[1;32m    971\u001b[0m                      \u001b[38;5;124m'\u001b[39m\u001b[38;5;124mgetrf|getri\u001b[39m\u001b[38;5;124m'\u001b[39m \u001b[38;5;241m%\u001b[39m \u001b[38;5;241m-\u001b[39minfo)\n",
      "\u001b[0;31mLinAlgError\u001b[0m: singular matrix"
     ]
    }
   ],
   "source": [
    "from dynesty import plotting as dyplot\n",
    "dyplot.runplot(dres)\n",
    "plt.tight_layout()"
   ]
  },
  {
   "cell_type": "code",
   "execution_count": 3,
   "id": "c7578704",
   "metadata": {},
   "outputs": [],
   "source": [
    "import bilby\n",
    "import numpy as np\n",
    "class DiscreteUniform(bilby.prior.Uniform):\n",
    "\n",
    "    def __init__(self, minimum, maximum, name=None, latex_label=None,\n",
    "                 unit=None, boundary=None):\n",
    "        \"\"\"Log-Uniform prior with bounds\n",
    "        Parameters\n",
    "        ==========\n",
    "        minimum: int\n",
    "            See superclass\n",
    "        maximum: int\n",
    "            See superclass\n",
    "        name: str\n",
    "            See superclass\n",
    "        latex_label: str\n",
    "            See superclass\n",
    "        unit: str\n",
    "            See superclass\n",
    "        boundary: str\n",
    "            See superclass\n",
    "        \"\"\"\n",
    "        if not isinstance(minimum, int) or not isinstance(maximum, int):\n",
    "            raise ValueError(\"minimum/maximum must be integers\")\n",
    "            \n",
    "        super(DiscreteUniform, self).__init__(name=name, latex_label=latex_label, unit=unit,\n",
    "                                         minimum=minimum, maximum=maximum+1, boundary=boundary)\n",
    "        \n",
    "        \n",
    "    def rescale(self, val):\n",
    "        \"\"\"\n",
    "        'Rescale' a sample from the unit line element to the power-law prior.\n",
    "        This maps to the inverse CDF. This has been analytically solved for this case.\n",
    "        Parameters\n",
    "        ==========\n",
    "        val: Union[float, int, array_like]\n",
    "            Uniform probability\n",
    "        Returns\n",
    "        =======\n",
    "        Union[float, array_like]: Rescaled probability\n",
    "        \"\"\"\n",
    "        \n",
    "        \n",
    "        \n",
    "        return np.floor(self.minimum + val * (self.maximum  - self.minimum))\n",
    "\n"
   ]
  },
  {
   "cell_type": "code",
   "execution_count": 4,
   "id": "7522c4ad",
   "metadata": {},
   "outputs": [
    {
     "name": "stdout",
     "output_type": "stream",
     "text": [
      "[ 3. -6. -5.  1. -3.  2.  3.  1. -4. -2.  1. -3.  3.  3. -2.  3. -3.  1.\n",
      " -1.  3. -1. -5.  2.  0. -4. -1.  1. -4. -6.  1.  0.  2.  1. -2. -6.  1.\n",
      "  3. -3. -2. -6. -5. -1. -2. -5. -1.  1. -4.  3. -6. -1. -1.  0. -5.  1.\n",
      " -5. -4. -2. -4.  1. -6. -1. -3. -5.  1. -2.  1.  3.  1. -4.  1.  0. -1.\n",
      " -6. -3.  0. -2. -1. -4. -5. -3. -1. -6. -5. -3. -3. -6. -1. -1.  3. -1.\n",
      " -4.  2.  0. -2.  3.  2. -4. -2. -3. -5. -3.  2. -6. -6. -3. -5. -4.  0.\n",
      " -6. -6. -5.  2. -6. -1. -1. -1. -4. -3. -2.  2. -2. -2.  3.  0. -6.  1.\n",
      "  3.  0. -3. -3.  0.  1. -6. -3. -2.  0. -3. -6.  1. -3.  0. -5. -4. -1.\n",
      " -1. -6.  0. -3. -6. -4.  0.  0.  3.  0.  2.  2.  2.  1. -6.  1. -1.  3.\n",
      "  1. -1. -6.  3. -5. -6.  3. -1. -4. -2.  3. -4. -2.  2. -3. -3.  2.  1.\n",
      "  3. -1. -6. -5.  3. -5. -3.  0. -3.  0. -6.  0.  3.  2. -3.  0. -2. -2.\n",
      " -5. -3. -5. -5. -3. -6. -6.  0. -4.  1.  3. -3. -3.  0. -1. -4. -4. -6.\n",
      " -3.  0.  0. -4. -2.  1.  3. -6.  1. -6. -3.  1.  1.  2. -2. -6. -4.  2.\n",
      " -2. -1. -5.  0.  3. -3.  1. -1. -3. -2. -5.  3. -4.  0. -3. -1. -4. -3.\n",
      "  3. -2.  1. -2.  0. -4. -5.  2. -2.  3. -2.  3. -5.  1. -1.  0. -3.  0.\n",
      " -5.  0.  1. -5. -4. -2. -3.  1. -1. -3. -1. -5.  2.  0.  0.  1. -3. -6.\n",
      "  0. -2.  3.  0. -6. -6. -6. -2.  0. -3.  0.  1. -5. -6.  1. -6. -6. -3.\n",
      "  1. -1.  2. -6. -6.  1.  1.  1.  3. -4.  2. -5. -6.  2. -2. -2.  1. -3.\n",
      " -1.  2.  0. -4. -2.  3.  0. -2.  3. -5. -1. -5.  3. -2. -1. -6. -3. -6.\n",
      " -6.  2. -4.  2. -1.  1. -5. -1.  3.  2. -4. -4.  1.  3.  2. -2. -1. -6.\n",
      " -5. -2. -4.  2. -6. -2.  1.  3.  3.  3. -1.  1.  2.  0. -6. -3. -6. -3.\n",
      "  0.  1. -1. -3.  2. -4.  0.  1.  0. -1. -1. -2. -2.  1. -5.  1.  0. -4.\n",
      " -6.  1.  1. -6. -6. -6. -2.  1.  3. -1.  2.  0.  0. -4. -4. -1.  1.  0.\n",
      " -5. -6. -1. -1.  1.  0. -5.  1. -1.  3. -6.  3.  2. -5. -5. -5. -5.  2.\n",
      " -6. -5. -4.  3. -5. -1. -3. -1.  1. -5. -5.  2. -5. -1. -3. -2. -3. -4.\n",
      " -6. -1.  2. -4. -1. -4. -4. -6. -1. -4. -1. -4. -3. -6. -2.  3.  3.  1.\n",
      " -1. -2.  1.  2.  2.  3. -5.  1. -3.  1.  3.  1. -5. -1.  2. -4. -2. -2.\n",
      "  2. -1. -2.  1.  3. -6. -5. -3. -2. -2. -6.  0. -6.  1.  2.  3.  1.  0.\n",
      " -5.  3.  2. -1. -1.  1.  3. -5. -2. -3.  3.  0. -2. -3.  3. -4. -2. -1.\n",
      "  2. -4.  0. -5.  1.  1. -6. -2. -2. -5.  0.  0. -4.  1.  2.  1. -2. -3.\n",
      " -4. -2.  0. -5.  0. -6.  3.  0. -4. -1. -6. -6. -4.  1.  3. -3. -1.  3.\n",
      " -3. -2. -4. -1.  2.  3. -5. -6.  1. -2.  0.  3. -3.  3. -5.  1.  2.  0.\n",
      " -6. -1. -5. -2.  3.  3. -1. -5. -2.  1. -1.  0. -3.  0. -3. -6. -4. -5.\n",
      " -4. -6.  1. -2.  0. -2.  3.  2.  1. -5. -4. -6.  0.  1. -2.  2. -1.  2.\n",
      " -6.  2.  3.  3.  0.  2. -4. -2.  1.  3. -6. -3. -3. -5. -4. -3.  2. -5.\n",
      "  1.  2.  1.  2.  0. -1.  2.  2. -4. -5. -1.  1.  1. -1.  1. -2. -1. -6.\n",
      " -4. -5.  1. -4. -5.  3. -2. -2. -5. -2. -2.  1. -4.  2. -3.  0. -6.  0.\n",
      " -1. -2. -6. -3. -3.  0. -5.  0. -6.  0. -4. -1. -3.  3. -5. -3. -2.  3.\n",
      " -1.  3. -5. -1. -3. -2. -6.  2. -2. -5.  0. -1. -4. -5.  2.  1. -3.  2.\n",
      " -3. -5.  3. -6. -3. -4. -3.  3. -6. -5. -6.  2.  0. -2. -4. -3. -2.  3.\n",
      " -4.  1.  3. -3.  2. -3. -5. -3.  2. -1. -4.  2. -6.  1.  3. -1.  0. -6.\n",
      "  3. -3.  3. -6. -5. -2.  3.  1. -1.  3. -3.  2.  3. -3. -4.  1.  0. -4.\n",
      "  0.  3. -6.  3.  2. -6. -5. -1.  2. -3. -2. -1.  1.  2.  0. -6.  0.  2.\n",
      " -3.  1.  2. -3. -2.  1. -5. -5. -3.  3.  2. -3. -2. -1. -4.  2. -5.  2.\n",
      " -6. -6. -1. -6. -2.  0. -2. -4.  0. -5. -3.  0. -2.  2.  0.  2. -5. -6.\n",
      " -5. -2.  0.  0. -5. -1. -1. -2. -4. -4. -5. -5. -3.  0. -1. -4.  1.  0.\n",
      " -2.  0. -4. -4. -3. -2. -4.  2. -3. -2.  1. -1.  0.  1. -2.  0. -2.  1.\n",
      " -5. -6.  2.  1. -4. -6.  2.  0. -3. -1.  3. -2. -6. -5. -5. -4. -4.  2.\n",
      "  1.  0. -6. -6. -1. -6.  0.  1. -5.  1.  2. -1. -1.  3. -2. -4. -1. -2.\n",
      "  1. -5.  3. -3. -1.  3. -2. -1. -1.  3.  2. -5. -6. -4. -4. -5. -3.  3.\n",
      " -1.  1. -1. -6.  3. -1. -6. -6. -3. -3. -3.  3. -3. -1. -2.  3.  1. -3.\n",
      " -2.  0.  3.  0. -3. -6. -2.  0. -5.  1. -2.  3. -5.  0. -4.  0. -1. -4.\n",
      "  2. -3. -2. -3.  0.  1.  0. -6.  0.  0. -5.  0. -2. -4.  1.  2. -1. -6.\n",
      " -3. -3. -6. -2. -2.  0. -5. -2.  3.  2.  3. -4.  2. -2. -2.  2. -4. -5.\n",
      "  0. -3.  3. -2.  2.  1. -2. -1. -2.  1. -1. -1.  3. -2.  1. -6. -4.  1.\n",
      " -6. -6. -6. -4. -5.  1. -1.  2.  0. -2.]\n"
     ]
    }
   ],
   "source": [
    "custom_prior = DiscreteUniform(minimum=-6, maximum=3, name='billy', latex_label='$billy$')\n",
    "samples = custom_prior.sample(1000)\n",
    "print(samples)"
   ]
  },
  {
   "cell_type": "code",
   "execution_count": null,
   "id": "f5df6df6",
   "metadata": {},
   "outputs": [],
   "source": []
  }
 ],
 "metadata": {
  "kernelspec": {
   "display_name": "Python 3 (ipykernel)",
   "language": "python",
   "name": "python3"
  },
  "language_info": {
   "codemirror_mode": {
    "name": "ipython",
    "version": 3
   },
   "file_extension": ".py",
   "mimetype": "text/x-python",
   "name": "python",
   "nbconvert_exporter": "python",
   "pygments_lexer": "ipython3",
   "version": "3.8.13"
  }
 },
 "nbformat": 4,
 "nbformat_minor": 5
}
