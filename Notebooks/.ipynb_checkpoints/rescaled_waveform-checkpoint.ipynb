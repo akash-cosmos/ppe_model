{
 "cells": [
  {
   "cell_type": "code",
   "execution_count": 1,
   "id": "555448c1",
   "metadata": {},
   "outputs": [
    {
     "name": "stdout",
     "output_type": "stream",
     "text": [
      "Version 1.1\n"
     ]
    }
   ],
   "source": [
    "import sys\n",
    "sys.path.append('/mnt/pfs/akash.mishra/ppe_model/')\n",
    "import numpy as np\n",
    "import matplotlib.pyplot as plt\n",
    "import waveform_model\n",
    "# import pycbc.ppe.ppe_tools as ppe_tools\n",
    "\n",
    "import pycbc\n",
    "import bilby\n",
    "import numpy as np\n",
    "import matplotlib.pylab as plt\n",
    "import pycbc.psd\n",
    "from waveform_model import ppe_c1_eps_model_rescaled\n",
    "np.set_printoptions(threshold=sys.maxsize)\n",
    "import pycbc.waveform as wf\n",
    "from prior import DiscreteUniform"
   ]
  },
  {
   "cell_type": "code",
   "execution_count": 6,
   "id": "43b2de0b",
   "metadata": {},
   "outputs": [],
   "source": [
    "frequency_array = np.arange(20, 1024, 1/4)\n",
    "mass_2 = 32\n",
    "mass_1 = 35\n",
    "luminosity_distance = 400\n",
    "theta_jn = 0.5\n",
    "phase = 0.5\n",
    "b = -1\n",
    "rescaled_beta = 0.5\n",
    "rescaled_eps = 0.1\n",
    "\n",
    "hp = ppe_c1_eps_model_rescaled(frequency_array, mass_1, mass_2, 0.5, 0.5, 0.0, 0.0, \n",
    "                               luminosity_distance, theta_jn, 0.0, 0.0, phase, b, rescaled_beta, rescaled_eps, a=0.0, alpha=0.0)['cross']\n",
    "\n",
    "hc = ppe_c1_eps_model_rescaled(frequency_array, mass_1, mass_2, 0.5, 0.5, 0.0, 0.0, \n",
    "                               luminosity_distance, theta_jn, 0.0, 0.0, phase, b, rescaled_beta, rescaled_eps, a=0.0, alpha=0.0)['cross']\n",
    "\n",
    "\n"
   ]
  },
  {
   "cell_type": "markdown",
   "id": "f4e6e0d2",
   "metadata": {},
   "source": [
    "# MisMatch Analysis"
   ]
  },
  {
   "cell_type": "code",
   "execution_count": 11,
   "id": "0457e3dc",
   "metadata": {},
   "outputs": [],
   "source": [
    "# PSD\n",
    "\n",
    "delta_f = 1/8\n",
    "fhigh = 1024\n",
    "flen = int(fhigh/delta_f) + 1\n",
    "flow = 20\n",
    "\n",
    "asd_file_HL='/mnt/pfs/akash.mishra/ppe_model/Noise/aLIGO_O4_high_asd.txt'\n",
    "psd_HL = pycbc.psd.from_txt(asd_file_HL, flen, delta_f,flow, is_asd_file=True)\n",
    "\n",
    "psd_file_V='/mnt/pfs/akash.mishra/ppe_model/Noise/AdV_psd.txt'\n",
    "psd_V = pycbc.psd.from_txt(psd_file_V, flen, delta_f,flow, is_asd_file=False)"
   ]
  },
  {
   "cell_type": "code",
   "execution_count": 12,
   "id": "f04e006b",
   "metadata": {},
   "outputs": [
    {
     "name": "stderr",
     "output_type": "stream",
     "text": [
      "15:06 bilby INFO    : Waveform generator initiated with\n",
      "  frequency_domain_source_model: bilby.gw.source.lal_binary_black_hole\n",
      "  time_domain_source_model: None\n",
      "  parameter_conversion: bilby.gw.conversion.convert_to_lal_binary_black_hole_parameters\n"
     ]
    }
   ],
   "source": [
    "waveform_arguments = dict(waveform_approximant='IMRPhenomD',reference_frequency=20., minimum_frequency=20.)\n",
    "sampling_frequency=2048\n",
    "duration=8\n",
    "waveform_generator_gr = bilby.gw.WaveformGenerator(\n",
    "    duration=duration, sampling_frequency=sampling_frequency,\n",
    "    frequency_domain_source_model=bilby.gw.source.lal_binary_black_hole,parameter_conversion = bilby.gw.conversion.convert_to_lal_binary_black_hole_parameters,waveform_arguments=waveform_arguments)"
   ]
  },
  {
   "cell_type": "code",
   "execution_count": 13,
   "id": "7e5bee00",
   "metadata": {},
   "outputs": [
    {
     "name": "stderr",
     "output_type": "stream",
     "text": [
      "15:07 bilby INFO    : Waveform generator initiated with\n",
      "  frequency_domain_source_model: waveform_model.ppe_c1_eps_model_rescaled\n",
      "  time_domain_source_model: None\n",
      "  parameter_conversion: bilby.gw.conversion.convert_to_lal_binary_black_hole_parameters\n"
     ]
    }
   ],
   "source": [
    "waveform_generator_ppe = bilby.gw.WaveformGenerator(\n",
    "    duration=duration, sampling_frequency=sampling_frequency,\n",
    "    frequency_domain_source_model=ppe_c1_eps_model_rescaled,parameter_conversion = bilby.gw.conversion.convert_to_lal_binary_black_hole_parameters,waveform_arguments=waveform_arguments)"
   ]
  },
  {
   "cell_type": "code",
   "execution_count": 14,
   "id": "910048d3",
   "metadata": {},
   "outputs": [],
   "source": [
    "def calc_mismatch_injections(inj_pars1,inj_pars2, waveform_generator,psd_H,psd_L,psd_V,gauss_noise_injection=True,sampling_frequency=2048,duration=8,flow=20,fhigh=1024):\n",
    "    \"\"\"Calculate mismatch between the strains two sets of injection parameters, waveform generator and PSDs.\"\"\"\n",
    "    \n",
    "    ifos1 = bilby.gw.detector.InterferometerList(['H1', 'L1','V1'])\n",
    "    ifos2 = bilby.gw.detector.InterferometerList(['H1', 'L1','V1'])\n",
    "    \n",
    "    \n",
    "\n",
    "    ifos1.set_strain_data_from_zero_noise(sampling_frequency=sampling_frequency, duration=duration,\n",
    "               start_time=inj_pars1['geocent_time'] - 6)\n",
    "        \n",
    "    ifos2.set_strain_data_from_zero_noise(sampling_frequency=sampling_frequency, duration=duration,\\\n",
    "                                          start_time=inj_pars2['geocent_time'] - 6)\n",
    "\n",
    "    inj1 = ifos1.inject_signal(waveform_generator=waveform_generator,parameters=inj_pars1)\n",
    "    inj2 = ifos2.inject_signal(waveform_generator=waveform_generator,parameters=inj_pars2)\n",
    "    ts_1_H1 = ifos1[0].strain_data.to_pycbc_timeseries()\n",
    "    ts_1_L1 = ifos1[1].strain_data.to_pycbc_timeseries()\n",
    "    ts_1_V1 = ifos1[2].strain_data.to_pycbc_timeseries()\n",
    "\n",
    "    ts_2_H1 = ifos2[0].strain_data.to_pycbc_timeseries()\n",
    "    ts_2_L1 = ifos2[1].strain_data.to_pycbc_timeseries()\n",
    "    ts_2_V1 = ifos2[2].strain_data.to_pycbc_timeseries()\n",
    "    \n",
    "    match_H1, shift_H1 = ts_1_H1.match(ts_2_H1,psd=psd_H,low_frequency_cutoff=flow,high_frequency_cutoff=fhigh)\n",
    "    match_L1, shift_L1 = ts_1_L1.match(ts_2_L1,psd=psd_L,low_frequency_cutoff=flow,high_frequency_cutoff=fhigh)\n",
    "    match_V1, shift_V1 = ts_1_V1.match(ts_2_V1,psd=psd_V,low_frequency_cutoff=flow,high_frequency_cutoff=fhigh)\n",
    "    return np.array([1-match_H1,1-match_L1,1-match_V1]), np.array([shift_H1,shift_L1,shift_V1]),np.array([ifos1,ifos2])"
   ]
  },
  {
   "cell_type": "code",
   "execution_count": 15,
   "id": "912e9912",
   "metadata": {},
   "outputs": [],
   "source": [
    "def plot_mismatch_beta_e_grid(rescaled_beta_grid,rescaled_eps_grid,b, mismatchs_arr,save=False):\n",
    "    plt.figure(figsize=(6,5))\n",
    "    c= np.log((mismatchs_arr**2).sum(axis=2).flatten())\n",
    "    plt.scatter(rescaled_beta_grid.flatten(),rescaled_eps_grid.flatten(),c=c, cmap = 'magma')\n",
    "    print(c)\n",
    "    plt.xlabel('beta')\n",
    "    plt.ylabel('e')\n",
    "    plt.clim(-6,0)\n",
    "    plt.grid()\n",
    "    plt.xlim(-3,3)\n",
    "    plt.ylim(-3, 3)\n",
    "    plt.colorbar()\n",
    "    ax=plt.gca()\n",
    "    #ax.set_yticks(np.arange(0, np.pi/2+0.01, np.pi/8))\n",
    "    #labels = ['$0$', r'$\\pi/8$', r'$\\pi/4$', r'$3\\pi/8$', r'$\\pi/2$']\n",
    "    #ax.set_yticklabels(labels)\n",
    "    if save == True:\n",
    "        plt.savefig('mismatch_plots/'+save +str(b)+'.pdf')\n",
    "    plt.title('Match ppe and GR waveform b = '+str(b))\n",
    "    plt.show()"
   ]
  },
  {
   "cell_type": "code",
   "execution_count": null,
   "id": "edd900f6",
   "metadata": {},
   "outputs": [],
   "source": [
    "def mismatch_beta_e_grid(inj_pars_gr, rescaled_beta_grid, rescaled_eps_grid, b, plot=False,save=False):\n",
    "    \"\"\" Returns mismatch and shifts 3D arrays nbeta x ne x ndets\"\"\"\n",
    "    mismatchs_arr = np.zeros([rescaled_beta_grid.shape[0],rescaled_eps_grid.shape[1],3])\n",
    "    shifts_arr = np.zeros([rescaled_beta_grid.shape[0],rescaled_eps_grid.shape[1],3])\n",
    "    inj_pars_gr['rescaled_beta'] = 0\n",
    "    inj_pars_gr['b'] = 0\n",
    "    inj_pars_gr['rescaled_eps'] = 0\n",
    "    inj_pars_gr['alpha'] = 0\n",
    "    inj_pars_gr['a'] = 0\n",
    "    inj_pars2 = inj_pars_gr.copy()\n",
    "    inj_pars2['b'] = b\n",
    "    \n",
    "    for i in range(beta_grid.shape[0]):\n",
    "        for j in range(beta_grid.shape[1]):\n",
    "            inj_pars2['rescaled_beta'] = rescaled_beta_grid[i,j]\n",
    "            inj_pars2['rescaled_eps']=rescaled_eps_grid[i,j]\n",
    "            mismatchs,shifts,ifos =calc_mismatch_injections(inj_pars_gr,inj_pars2, waveform_generator_ppe,psd_HL,psd_HL,psd_V,gauss_noise_injection=False)\n",
    "            mismatchs_arr[i,j,:],shifts_arr[i,j,:] =  mismatchs,shifts\n",
    "            #print('mismatch for (i,j) -> (', i, j, ') i.e. (',beta_grid[i,j], e_grid[i,j], ' is ', mismatchs)\n",
    "    if save == True:\n",
    "         np.savez('mismatch_plots/'+save+str(b)+'.npz', rescaled_beta_grid=rescaled_beta_grid,rescaled_eps_grid=rescaled_eps_grid,mismatchs_arr=mismatchs_arr,shifts_arr=shifts_arr)\n",
    "    #print(mismatchs_arr)\n",
    "    if plot == True:\n",
    "        plot_mismatch_beta_e_grid(rescaled_beta_grid,rescaled_eps_grid,b,mismatchs_arr,save=save)\n",
    "    return mismatchs_arr,shifts_arr"
   ]
  }
 ],
 "metadata": {
  "kernelspec": {
   "display_name": "Python 3 (ipykernel)",
   "language": "python",
   "name": "python3"
  },
  "language_info": {
   "codemirror_mode": {
    "name": "ipython",
    "version": 3
   },
   "file_extension": ".py",
   "mimetype": "text/x-python",
   "name": "python",
   "nbconvert_exporter": "python",
   "pygments_lexer": "ipython3",
   "version": "3.8.13"
  }
 },
 "nbformat": 4,
 "nbformat_minor": 5
}
