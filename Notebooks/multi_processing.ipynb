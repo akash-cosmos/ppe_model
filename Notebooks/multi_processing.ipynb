{
 "cells": [
  {
   "cell_type": "code",
   "execution_count": 15,
   "id": "2a69e58e",
   "metadata": {},
   "outputs": [
    {
     "name": "stdout",
     "output_type": "stream",
     "text": [
      "Program finished in 1.1589245349168777 seconds - using multiprocessing\n",
      "---\n",
      "Program finished in 1.2017867527902126 seconds\n"
     ]
    }
   ],
   "source": [
    "from multiprocessing import Pool\n",
    "import time\n",
    "import math\n",
    "\n",
    "N = 5000000\n",
    "\n",
    "def cube(x):\n",
    "    return math.sqrt(x)\n",
    "\n",
    "if __name__ == \"__main__\":\n",
    "    # first way, using multiprocessing\n",
    "    start_time = time.perf_counter()\n",
    "    with Pool() as pool:\n",
    "      result = pool.map(cube, range(10,N))\n",
    "    finish_time = time.perf_counter()\n",
    "    print(\"Program finished in {} seconds - using multiprocessing\".format(finish_time-start_time))\n",
    "    print(\"---\")\n",
    "    # second way, serial computation\n",
    "    start_time = time.perf_counter()\n",
    "    result = []\n",
    "    for x in range(10,N):\n",
    "      result.append(cube(x))\n",
    "    finish_time = time.perf_counter()\n",
    "    print(\"Program finished in {} seconds\".format(finish_time-start_time))"
   ]
  },
  {
   "cell_type": "markdown",
   "id": "8a674cbc",
   "metadata": {},
   "source": [
    "# Parallel Sampling with Dynesty"
   ]
  },
  {
   "cell_type": "code",
   "execution_count": 8,
   "id": "d4c0e72b",
   "metadata": {},
   "outputs": [],
   "source": [
    "import sys\n",
    "sys.path.append('/mnt/pfs/akash.mishra/pytimedomain/')\n",
    "import matplotlib.pyplot as plt\n",
    "import readligo as rl\n",
    "import matplotlib.mlab as mlab, matplotlib.pyplot as plt, numpy as np, os, sys, warnings\n",
    "\n",
    "import numpy as np\n",
    "from scipy.linalg import toeplitz\n",
    "from Data import DataProcessor\n",
    "import noise\n",
    "from scipy.signal      import butter, filtfilt, welch, tukey, decimate\n",
    "import likelihood_class\n",
    "\n",
    "from noise import detector\n",
    "import waveform\n",
    "import lal\n",
    "import matplotlib.pyplot as plt\n",
    "import readligo as rl\n",
    "import matplotlib.mlab as mlab, matplotlib.pyplot as plt, numpy as np, os, sys, warnings\n",
    "\n",
    "import numpy as np\n",
    "import pandas as pd\n",
    "from scipy.linalg import toeplitz\n",
    "from scipy.interpolate import interp2d\n",
    "\n",
    "warnings.filterwarnings(\"ignore\", category=DeprecationWarning)\n",
    "import numpy as np\n",
    "import dynesty\n",
    "from multiprocessing import Pool\n",
    "import numba"
   ]
  },
  {
   "cell_type": "code",
   "execution_count": 4,
   "id": "9fb2c415",
   "metadata": {},
   "outputs": [
    {
     "name": "stdout",
     "output_type": "stream",
     "text": [
      "* Computing the one-sided PSD with the Welch method for comparison with the standard ACF.\n",
      "\n",
      "* Computing the one-sided PSD with the Welch method for comparison with the standard ACF.\n",
      "\n"
     ]
    }
   ],
   "source": [
    "kwargs = {'f_min':20, 'f_max':2047, 'data_duration':4096,'triggertime':1126259462.423, 'srate':4096, 'signal_chunk_size':4, 'noise_chunk_size':4,\n",
    "                'output': '/mnt/pfs/akash.mishra/pytimedomain/', 'window': 1, 'alpha-window': 0.1, 'fft-acf': True, 'acf-file':'', 'acf-simple-norm': False}\n",
    "\n",
    "file_h1 = '/mnt/pfs/akash.mishra/pytimedomain/data_files/GW150914/H-H1_LOSC_4_V2-1126257414-4096.hdf5'\n",
    "\n",
    "\n",
    "n_duration = 820\n",
    "h1_data = detector('H1', file_h1, **kwargs)\n",
    "\n",
    "file_l1 = '/mnt/pfs/akash.mishra/pytimedomain/data_files/GW150914/L-L1_LOSC_4_V2-1126257414-4096.hdf5'\n",
    "\n",
    "l1_data = detector('L1', file_l1, **kwargs)\n",
    "# cov_inverse = {'H1': np.linalg.inv(toeplitz(h1_data.acf[0:820])), 'L1': np.linalg.inv(toeplitz(l1_data.acf[0:820]))}\n",
    "\n",
    "\n",
    "cov_inverse = {'H1': np.linalg.inv(toeplitz(h1_data.acf[0:n_duration])), 'L1': np.linalg.inv(toeplitz(l1_data.acf[0:n_duration]))}\n",
    "\n",
    "\n",
    "\n",
    "def time_d(det_list, ref_det, ra, dec, tM_gps):\n",
    "    td = {}\n",
    "    ref_det_lal =  lal.cached_detector_by_prefix[ref_det]\n",
    "    for d in det_list:\n",
    "        det = lal.cached_detector_by_prefix[d]\n",
    "        td[ref_det + '_' + d] = lal.ArrivalTimeDiff(det.location, ref_det_lal.location, ra, dec, tM_gps)\n",
    "    return td\n",
    "\n",
    "\n",
    "det_class = {'H1': h1_data, 'L1':l1_data}\n",
    "# det_class = {'H1': h1_data, 'L1':l1_data}\n",
    "\n",
    "\n",
    "ra = 1.95\n",
    "dec = -1.27\n",
    "psi = 0.82\n",
    "trigger_time =  1126259462.423\n",
    "t_start = 0.000\n",
    "\n",
    "ref_det = 'H1' \n",
    "# time_delay = time_d(['H1', 'L1', 'V1'], ref_det, ra, dec,  trigger_time)\n",
    "time_delay = time_d(['H1', 'L1'], ref_det, ra, dec,  trigger_time)"
   ]
  },
  {
   "cell_type": "code",
   "execution_count": 5,
   "id": "db707630",
   "metadata": {},
   "outputs": [],
   "source": [
    "def interpolated_functionb(datafile):\n",
    "    qnm_data = pd.read_pickle(datafile)\n",
    "    q_list = list(qnm_data.keys())\n",
    "    a_list = list(qnm_data[0.0].keys())\n",
    "    x = a_list\n",
    "    y = q_list  \n",
    "    z_real = []\n",
    "    z_imag = []\n",
    "    for i in range(len(q_list)):\n",
    "        z_real.append(tuple(np.real(list(qnm_data[q_list[i]].values())))[0:194])\n",
    "        z_imag.append(tuple(np.imag(list(qnm_data[q_list[i]].values())))[0:194])\n",
    "    \n",
    "    wreal = interp2d(x, y, np.array(z_real, dtype=object))\n",
    "    wimag = interp2d(x, y, np.array(z_imag, dtype=object))\n",
    "    \n",
    "    return wreal, wimag"
   ]
  },
  {
   "cell_type": "code",
   "execution_count": 6,
   "id": "1c95dc05",
   "metadata": {},
   "outputs": [],
   "source": [
    "real_220_interp, imag_220_interp = interpolated_functionb('/mnt/pfs/akash.mishra/pytimedomain/data_files/braneworld_qnm_files/qnm_data_220_updated.pickle')\n",
    "real_221_interp, imag_221_interp = interpolated_functionb('/mnt/pfs/akash.mishra/pytimedomain/data_files/braneworld_qnm_files/qnm_data_221_updated.pickle')"
   ]
  },
  {
   "cell_type": "code",
   "execution_count": 7,
   "id": "4ec4c8e5",
   "metadata": {},
   "outputs": [
    {
     "data": {
      "text/plain": [
       "array([239.9691693])"
      ]
     },
     "execution_count": 7,
     "metadata": {},
     "output_type": "execute_result"
    }
   ],
   "source": [
    "import waveform\n",
    "interpolants_bw = {(2,2,2,0):{'freq': real_220_interp, 'tau': imag_220_interp}, (2,2,2,1):{'freq': real_221_interp, 'tau': imag_221_interp}}\n",
    "waveform.QNM_braneworld(2,2,2,0, interpolants_bw).f(70, 0.67, 0.0)"
   ]
  },
  {
   "cell_type": "code",
   "execution_count": 12,
   "id": "df95a0c3",
   "metadata": {},
   "outputs": [],
   "source": [
    "# @numba.jit\n",
    "def loglikelihood(theta):\n",
    "    mass_f, chi, q,  amp0, amp1, iota, phi = theta\n",
    "    amps = {(2,2,2,0): amp0, (2,2,2,1): amp1}\n",
    "    phase = {(2,2,2,0): 0.0, (2,2,2,1): 0.0}\n",
    "    r = 400\n",
    "    \n",
    "    logL = 0.0\n",
    "\n",
    "    for d in det_class.keys():\n",
    "        lal_det = lal.cached_detector_by_prefix[d]\n",
    "        dt   = time_delay['{0}_'.format(ref_det)+d]\n",
    "        tref = lal.LIGOTimeGPS(t_start+dt+trigger_time)\n",
    "        time_array_raw = det_class[d].time - (trigger_time+dt)\n",
    "        time_array     = time_array_raw[time_array_raw >= t_start][:n_duration]\n",
    "        data           = det_class[d].time_series[time_array_raw >= t_start][:n_duration]\n",
    "        hp, hc = waveform.BraneworldBH(t_start, mass_f, chi, q, amps, phase, r, iota, phi, interpolants_bw).waveform(time_array)\n",
    "        prediction = likelihood_class.project(hp, hc, lal_det, ra, dec, psi, tref)\n",
    "        dd = likelihood_class.inner_product_direct_inversion(data,       data,       cov_inverse[d])\n",
    "        dh = likelihood_class.inner_product_direct_inversion(data,       prediction, cov_inverse[d])\n",
    "        hh = likelihood_class.inner_product_direct_inversion(prediction, prediction, cov_inverse[d])\n",
    "        residuals_inner_product = dd - 2. * dh + hh\n",
    "        logL += -0.5*residuals_inner_product #+ log_normalisation\n",
    "    return logL\n",
    "\n",
    "# @numba.jit\n",
    "def prior_transform(utheta):\n",
    "    #mass_fm, chi_m, amp0_m, amp1_m, phi0_m, phi1_m, ra_m, dec_m, psi_m = utheta\n",
    "    mass_fm, chi_m,  q_m, amp0_m, amp1_m, iota_m, phi_m = utheta\n",
    "    mass_f = 20 + (150-20) * mass_fm\n",
    "    q_min = -0.95\n",
    "    q_max = 0.0\n",
    "    q = q_min + (q_max - q_min) * q_m\n",
    "    # a_min = 0.01\n",
    "    # a_max = 0.98\n",
    "    \n",
    "    def a_max_func(x):\n",
    "        return np.sqrt(1 - x)-0.02\n",
    "    \n",
    "    a_min = 0.05\n",
    "    \n",
    "    #a_max_func = lambda q: (2*(0.5*np.sqrt(1+4*(q_m)))-0.02)\n",
    "    a_max = a_max_func(q)\n",
    "    chi = a_min + (a_max - a_min) * chi_m\n",
    "    \n",
    "    \n",
    "    #chi =  0.1 + (0.98 - 0.1) * chi_m\n",
    "    amp0 = 1e-23 + (1e-19 - 1e-23) * amp0_m\n",
    "    amp1 = 1e-23 + (1e-19 - 1e-23) * amp1_m\n",
    "    # phi0 = 2 * np.pi * phi0_m\n",
    "    # phi1 = 2 * np.pi * phi1_m\n",
    "\n",
    "    iota =  np.pi * iota_m\n",
    "    phi = 2 * np.pi * phi_m\n",
    "    #ra = 2 * np.pi * ra_m\n",
    "    #dec =  np.pi * (dec_m) - np.pi/2 #np.pi * dec_m\n",
    "    #psi =  np.pi * psi_m\n",
    "    \n",
    "    return mass_f, chi, q, amp0, amp1, iota, phi"
   ]
  },
  {
   "cell_type": "code",
   "execution_count": 13,
   "id": "f22c6920",
   "metadata": {},
   "outputs": [],
   "source": [
    "import dynesty.pool as dypool\n"
   ]
  },
  {
   "cell_type": "code",
   "execution_count": 16,
   "id": "7c3f8a6c",
   "metadata": {},
   "outputs": [
    {
     "name": "stderr",
     "output_type": "stream",
     "text": [
      "10898it [21:12,  8.57it/s, batch: 0 | bound: 70 | nc: 32 | ncall: 297557 | eff(%):  3.656 | loglstar:   -inf < -827.102 <    inf | logz: -845.663 +/-  0.249 | dlogz:  0.084 >  0.010]  \n"
     ]
    },
    {
     "ename": "KeyboardInterrupt",
     "evalue": "",
     "output_type": "error",
     "traceback": [
      "\u001b[0;31m---------------------------------------------------------------------------\u001b[0m",
      "\u001b[0;31mKeyboardInterrupt\u001b[0m                         Traceback (most recent call last)",
      "Cell \u001b[0;32mIn [16], line 9\u001b[0m\n\u001b[1;32m      3\u001b[0m \u001b[38;5;28;01mwith\u001b[39;00m dypool\u001b[38;5;241m.\u001b[39mPool(\u001b[38;5;241m4\u001b[39m, loglikelihood, prior_transform) \u001b[38;5;28;01mas\u001b[39;00m pool:\n\u001b[1;32m      4\u001b[0m     \u001b[38;5;66;03m# The important thing that we provide the loglikelihood/prior transform from \u001b[39;00m\n\u001b[1;32m      5\u001b[0m     \u001b[38;5;66;03m# the pool    \u001b[39;00m\n\u001b[1;32m      6\u001b[0m     psampler \u001b[38;5;241m=\u001b[39m dynesty\u001b[38;5;241m.\u001b[39mDynamicNestedSampler(pool\u001b[38;5;241m.\u001b[39mloglike, pool\u001b[38;5;241m.\u001b[39mprior_transform, ndim, \n\u001b[1;32m      7\u001b[0m                                  nlive\u001b[38;5;241m=\u001b[39m\u001b[38;5;241m1000\u001b[39m, sample\u001b[38;5;241m=\u001b[39m\u001b[38;5;124m'\u001b[39m\u001b[38;5;124mrslice\u001b[39m\u001b[38;5;124m'\u001b[39m,pool\u001b[38;5;241m=\u001b[39mpool,\n\u001b[1;32m      8\u001b[0m                                      )\n\u001b[0;32m----> 9\u001b[0m     \u001b[43mpsampler\u001b[49m\u001b[38;5;241;43m.\u001b[39;49m\u001b[43mrun_nested\u001b[49m\u001b[43m(\u001b[49m\u001b[43m)\u001b[49m\n\u001b[1;32m     10\u001b[0m pres \u001b[38;5;241m=\u001b[39m psampler\u001b[38;5;241m.\u001b[39mresults\n",
      "File \u001b[0;32m~/miniconda3/envs/igwn-py38/lib/python3.8/site-packages/dynesty/dynamicsampler.py:1619\u001b[0m, in \u001b[0;36mDynamicSampler.run_nested\u001b[0;34m(self, nlive_init, maxiter_init, maxcall_init, dlogz_init, logl_max_init, n_effective_init, nlive_batch, wt_function, wt_kwargs, maxiter_batch, maxcall_batch, maxiter, maxcall, maxbatch, n_effective, stop_function, stop_kwargs, use_stop, save_bounds, print_progress, print_func, live_points)\u001b[0m\n\u001b[1;32m   1617\u001b[0m \u001b[38;5;28;01mtry\u001b[39;00m:\n\u001b[1;32m   1618\u001b[0m     \u001b[38;5;28;01mif\u001b[39;00m \u001b[38;5;129;01mnot\u001b[39;00m \u001b[38;5;28mself\u001b[39m\u001b[38;5;241m.\u001b[39mbase:\n\u001b[0;32m-> 1619\u001b[0m         \u001b[38;5;28;01mfor\u001b[39;00m results \u001b[38;5;129;01min\u001b[39;00m \u001b[38;5;28mself\u001b[39m\u001b[38;5;241m.\u001b[39msample_initial(nlive\u001b[38;5;241m=\u001b[39mnlive_init,\n\u001b[1;32m   1620\u001b[0m                                            dlogz\u001b[38;5;241m=\u001b[39mdlogz_init,\n\u001b[1;32m   1621\u001b[0m                                            maxcall\u001b[38;5;241m=\u001b[39mmaxcall_init,\n\u001b[1;32m   1622\u001b[0m                                            maxiter\u001b[38;5;241m=\u001b[39mmaxiter_init,\n\u001b[1;32m   1623\u001b[0m                                            logl_max\u001b[38;5;241m=\u001b[39mlogl_max_init,\n\u001b[1;32m   1624\u001b[0m                                            n_effective\u001b[38;5;241m=\u001b[39mn_effective_init,\n\u001b[1;32m   1625\u001b[0m                                            live_points\u001b[38;5;241m=\u001b[39mlive_points):\n\u001b[1;32m   1626\u001b[0m             (worst, ustar, vstar, loglstar, logvol,\n\u001b[1;32m   1627\u001b[0m              logwt, logz, logzvar, h, nc, worst_it,\n\u001b[1;32m   1628\u001b[0m              boundidx, bounditer, eff, delta_logz) \u001b[38;5;241m=\u001b[39m results\n\u001b[1;32m   1629\u001b[0m             ncall \u001b[38;5;241m+\u001b[39m\u001b[38;5;241m=\u001b[39m nc\n",
      "File \u001b[0;32m~/miniconda3/envs/igwn-py38/lib/python3.8/site-packages/dynesty/dynamicsampler.py:838\u001b[0m, in \u001b[0;36mDynamicSampler.sample_initial\u001b[0;34m(self, nlive, update_interval, first_update, maxiter, maxcall, logl_max, dlogz, n_effective, live_points)\u001b[0m\n\u001b[1;32m    836\u001b[0m \u001b[38;5;66;03m# Run the sampler internally as a generator.\u001b[39;00m\n\u001b[1;32m    837\u001b[0m \u001b[38;5;28;01mfor\u001b[39;00m i \u001b[38;5;129;01min\u001b[39;00m \u001b[38;5;28mrange\u001b[39m(\u001b[38;5;241m1\u001b[39m):\n\u001b[0;32m--> 838\u001b[0m     \u001b[38;5;28;01mfor\u001b[39;00m it, results \u001b[38;5;129;01min\u001b[39;00m \u001b[38;5;28menumerate\u001b[39m(\u001b[38;5;28mself\u001b[39m\u001b[38;5;241m.\u001b[39msampler\u001b[38;5;241m.\u001b[39msample(maxiter\u001b[38;5;241m=\u001b[39mmaxiter,\n\u001b[1;32m    839\u001b[0m                                  save_samples\u001b[38;5;241m=\u001b[39m\u001b[38;5;28;01mFalse\u001b[39;00m,\n\u001b[1;32m    840\u001b[0m                                  maxcall\u001b[38;5;241m=\u001b[39mmaxcall, dlogz\u001b[38;5;241m=\u001b[39mdlogz,\n\u001b[1;32m    841\u001b[0m                                  n_effective\u001b[38;5;241m=\u001b[39mn_effective)):\n\u001b[1;32m    842\u001b[0m         \u001b[38;5;66;03m# Grab results.\u001b[39;00m\n\u001b[1;32m    843\u001b[0m         (worst, ustar, vstar, loglstar, logvol, logwt,\n\u001b[1;32m    844\u001b[0m          logz, logzvar, h, nc, worst_it, boundidx, bounditer,\n\u001b[1;32m    845\u001b[0m          eff, delta_logz) \u001b[38;5;241m=\u001b[39m results\n\u001b[1;32m    847\u001b[0m         \u001b[38;5;66;03m# Save our base run (which we will use later).\u001b[39;00m\n",
      "File \u001b[0;32m~/miniconda3/envs/igwn-py38/lib/python3.8/site-packages/dynesty/sampler.py:782\u001b[0m, in \u001b[0;36mSampler.sample\u001b[0;34m(self, maxiter, maxcall, dlogz, logl_max, n_effective, add_live, save_bounds, save_samples)\u001b[0m\n\u001b[1;32m    777\u001b[0m logwt \u001b[38;5;241m=\u001b[39m np\u001b[38;5;241m.\u001b[39mlogaddexp(np\u001b[38;5;241m.\u001b[39mreal(loglstar_new), np\u001b[38;5;241m.\u001b[39mreal(loglstar)) \u001b[38;5;241m+\u001b[39m logdvol  \u001b[38;5;66;03m# ln(wt)\u001b[39;00m\n\u001b[1;32m    779\u001b[0m \u001b[38;5;66;03m# Sample a new live point from within the likelihood constraint\u001b[39;00m\n\u001b[1;32m    780\u001b[0m \u001b[38;5;66;03m# `logl > loglstar` using the bounding distribution and sampling\u001b[39;00m\n\u001b[1;32m    781\u001b[0m \u001b[38;5;66;03m# method from our sampler.\u001b[39;00m\n\u001b[0;32m--> 782\u001b[0m u, v, logl, nc \u001b[38;5;241m=\u001b[39m \u001b[38;5;28;43mself\u001b[39;49m\u001b[38;5;241;43m.\u001b[39;49m\u001b[43m_new_point\u001b[49m\u001b[43m(\u001b[49m\u001b[43mloglstar_new\u001b[49m\u001b[43m,\u001b[49m\u001b[43m \u001b[49m\u001b[43mlogvol\u001b[49m\u001b[43m)\u001b[49m\n\u001b[1;32m    783\u001b[0m ncall \u001b[38;5;241m+\u001b[39m\u001b[38;5;241m=\u001b[39m nc\n\u001b[1;32m    784\u001b[0m \u001b[38;5;28mself\u001b[39m\u001b[38;5;241m.\u001b[39mncall \u001b[38;5;241m+\u001b[39m\u001b[38;5;241m=\u001b[39m nc\n",
      "File \u001b[0;32m~/miniconda3/envs/igwn-py38/lib/python3.8/site-packages/dynesty/sampler.py:380\u001b[0m, in \u001b[0;36mSampler._new_point\u001b[0;34m(self, loglstar, logvol)\u001b[0m\n\u001b[1;32m    377\u001b[0m ncall, nupdate \u001b[38;5;241m=\u001b[39m \u001b[38;5;241m0\u001b[39m, \u001b[38;5;241m0\u001b[39m\n\u001b[1;32m    378\u001b[0m \u001b[38;5;28;01mwhile\u001b[39;00m \u001b[38;5;28;01mTrue\u001b[39;00m:\n\u001b[1;32m    379\u001b[0m     \u001b[38;5;66;03m# Get the next point from the queue\u001b[39;00m\n\u001b[0;32m--> 380\u001b[0m     u, v, logl, nc, blob \u001b[38;5;241m=\u001b[39m \u001b[38;5;28;43mself\u001b[39;49m\u001b[38;5;241;43m.\u001b[39;49m\u001b[43m_get_point_value\u001b[49m\u001b[43m(\u001b[49m\u001b[43mloglstar\u001b[49m\u001b[43m)\u001b[49m\n\u001b[1;32m    381\u001b[0m     ncall \u001b[38;5;241m+\u001b[39m\u001b[38;5;241m=\u001b[39m nc\n\u001b[1;32m    383\u001b[0m     \u001b[38;5;66;03m# Bounding checks.\u001b[39;00m\n",
      "File \u001b[0;32m~/miniconda3/envs/igwn-py38/lib/python3.8/site-packages/dynesty/sampler.py:364\u001b[0m, in \u001b[0;36mSampler._get_point_value\u001b[0;34m(self, loglstar)\u001b[0m\n\u001b[1;32m    362\u001b[0m \u001b[38;5;66;03m# If the queue is empty, refill it.\u001b[39;00m\n\u001b[1;32m    363\u001b[0m \u001b[38;5;28;01mif\u001b[39;00m \u001b[38;5;28mself\u001b[39m\u001b[38;5;241m.\u001b[39mnqueue \u001b[38;5;241m<\u001b[39m\u001b[38;5;241m=\u001b[39m \u001b[38;5;241m0\u001b[39m:\n\u001b[0;32m--> 364\u001b[0m     \u001b[38;5;28;43mself\u001b[39;49m\u001b[38;5;241;43m.\u001b[39;49m\u001b[43m_fill_queue\u001b[49m\u001b[43m(\u001b[49m\u001b[43mloglstar\u001b[49m\u001b[43m)\u001b[49m\n\u001b[1;32m    366\u001b[0m \u001b[38;5;66;03m# Grab the earliest entry.\u001b[39;00m\n\u001b[1;32m    367\u001b[0m u, v, logl, nc, blob \u001b[38;5;241m=\u001b[39m \u001b[38;5;28mself\u001b[39m\u001b[38;5;241m.\u001b[39mqueue\u001b[38;5;241m.\u001b[39mpop(\u001b[38;5;241m0\u001b[39m)\n",
      "File \u001b[0;32m~/miniconda3/envs/igwn-py38/lib/python3.8/site-packages/dynesty/sampler.py:353\u001b[0m, in \u001b[0;36mSampler._fill_queue\u001b[0;34m(self, loglstar)\u001b[0m\n\u001b[1;32m    348\u001b[0m args \u001b[38;5;241m=\u001b[39m \u001b[38;5;28mzip\u001b[39m(point_queue, loglstars, axes_queue,\n\u001b[1;32m    349\u001b[0m            scales, ptforms, logls, kwargs)\n\u001b[1;32m    351\u001b[0m \u001b[38;5;28;01mif\u001b[39;00m \u001b[38;5;28mself\u001b[39m\u001b[38;5;241m.\u001b[39muse_pool_evolve:\n\u001b[1;32m    352\u001b[0m     \u001b[38;5;66;03m# Use the pool to propose (\"evolve\") a new live point.\u001b[39;00m\n\u001b[0;32m--> 353\u001b[0m     \u001b[38;5;28mself\u001b[39m\u001b[38;5;241m.\u001b[39mqueue \u001b[38;5;241m=\u001b[39m \u001b[38;5;28mlist\u001b[39m(\u001b[38;5;28;43mself\u001b[39;49m\u001b[38;5;241;43m.\u001b[39;49m\u001b[43mM\u001b[49m\u001b[43m(\u001b[49m\u001b[43mevolve_point\u001b[49m\u001b[43m,\u001b[49m\u001b[43m \u001b[49m\u001b[43margs\u001b[49m\u001b[43m)\u001b[49m)\n\u001b[1;32m    354\u001b[0m \u001b[38;5;28;01melse\u001b[39;00m:\n\u001b[1;32m    355\u001b[0m     \u001b[38;5;66;03m# Propose (\"evolve\") a new live point using the default `map`\u001b[39;00m\n\u001b[1;32m    356\u001b[0m     \u001b[38;5;66;03m# function.\u001b[39;00m\n\u001b[1;32m    357\u001b[0m     \u001b[38;5;28mself\u001b[39m\u001b[38;5;241m.\u001b[39mqueue \u001b[38;5;241m=\u001b[39m \u001b[38;5;28mlist\u001b[39m(\u001b[38;5;28mmap\u001b[39m(evolve_point, args))\n",
      "File \u001b[0;32m~/miniconda3/envs/igwn-py38/lib/python3.8/site-packages/dynesty/pool.py:139\u001b[0m, in \u001b[0;36mPool.map\u001b[0;34m(self, F, x)\u001b[0m\n\u001b[1;32m    130\u001b[0m \u001b[38;5;28;01mdef\u001b[39;00m \u001b[38;5;21mmap\u001b[39m(\u001b[38;5;28mself\u001b[39m, F, x):\n\u001b[1;32m    131\u001b[0m     \u001b[38;5;124;03m\"\"\" Apply the function F to the list x\u001b[39;00m\n\u001b[1;32m    132\u001b[0m \n\u001b[1;32m    133\u001b[0m \u001b[38;5;124;03m    Parameters\u001b[39;00m\n\u001b[0;32m   (...)\u001b[0m\n\u001b[1;32m    137\u001b[0m \u001b[38;5;124;03m    x: iterable\u001b[39;00m\n\u001b[1;32m    138\u001b[0m \u001b[38;5;124;03m    \"\"\"\u001b[39;00m\n\u001b[0;32m--> 139\u001b[0m     \u001b[38;5;28;01mreturn\u001b[39;00m \u001b[38;5;28;43mself\u001b[39;49m\u001b[38;5;241;43m.\u001b[39;49m\u001b[43mpool\u001b[49m\u001b[38;5;241;43m.\u001b[39;49m\u001b[43mmap\u001b[49m\u001b[43m(\u001b[49m\u001b[43mF\u001b[49m\u001b[43m,\u001b[49m\u001b[43m \u001b[49m\u001b[43mx\u001b[49m\u001b[43m)\u001b[49m\n",
      "File \u001b[0;32m~/miniconda3/envs/igwn-py38/lib/python3.8/multiprocessing/pool.py:364\u001b[0m, in \u001b[0;36mPool.map\u001b[0;34m(self, func, iterable, chunksize)\u001b[0m\n\u001b[1;32m    359\u001b[0m \u001b[38;5;28;01mdef\u001b[39;00m \u001b[38;5;21mmap\u001b[39m(\u001b[38;5;28mself\u001b[39m, func, iterable, chunksize\u001b[38;5;241m=\u001b[39m\u001b[38;5;28;01mNone\u001b[39;00m):\n\u001b[1;32m    360\u001b[0m     \u001b[38;5;124;03m'''\u001b[39;00m\n\u001b[1;32m    361\u001b[0m \u001b[38;5;124;03m    Apply `func` to each element in `iterable`, collecting the results\u001b[39;00m\n\u001b[1;32m    362\u001b[0m \u001b[38;5;124;03m    in a list that is returned.\u001b[39;00m\n\u001b[1;32m    363\u001b[0m \u001b[38;5;124;03m    '''\u001b[39;00m\n\u001b[0;32m--> 364\u001b[0m     \u001b[38;5;28;01mreturn\u001b[39;00m \u001b[38;5;28;43mself\u001b[39;49m\u001b[38;5;241;43m.\u001b[39;49m\u001b[43m_map_async\u001b[49m\u001b[43m(\u001b[49m\u001b[43mfunc\u001b[49m\u001b[43m,\u001b[49m\u001b[43m \u001b[49m\u001b[43miterable\u001b[49m\u001b[43m,\u001b[49m\u001b[43m \u001b[49m\u001b[43mmapstar\u001b[49m\u001b[43m,\u001b[49m\u001b[43m \u001b[49m\u001b[43mchunksize\u001b[49m\u001b[43m)\u001b[49m\u001b[38;5;241;43m.\u001b[39;49m\u001b[43mget\u001b[49m\u001b[43m(\u001b[49m\u001b[43m)\u001b[49m\n",
      "File \u001b[0;32m~/miniconda3/envs/igwn-py38/lib/python3.8/multiprocessing/pool.py:765\u001b[0m, in \u001b[0;36mApplyResult.get\u001b[0;34m(self, timeout)\u001b[0m\n\u001b[1;32m    764\u001b[0m \u001b[38;5;28;01mdef\u001b[39;00m \u001b[38;5;21mget\u001b[39m(\u001b[38;5;28mself\u001b[39m, timeout\u001b[38;5;241m=\u001b[39m\u001b[38;5;28;01mNone\u001b[39;00m):\n\u001b[0;32m--> 765\u001b[0m     \u001b[38;5;28;43mself\u001b[39;49m\u001b[38;5;241;43m.\u001b[39;49m\u001b[43mwait\u001b[49m\u001b[43m(\u001b[49m\u001b[43mtimeout\u001b[49m\u001b[43m)\u001b[49m\n\u001b[1;32m    766\u001b[0m     \u001b[38;5;28;01mif\u001b[39;00m \u001b[38;5;129;01mnot\u001b[39;00m \u001b[38;5;28mself\u001b[39m\u001b[38;5;241m.\u001b[39mready():\n\u001b[1;32m    767\u001b[0m         \u001b[38;5;28;01mraise\u001b[39;00m \u001b[38;5;167;01mTimeoutError\u001b[39;00m\n",
      "File \u001b[0;32m~/miniconda3/envs/igwn-py38/lib/python3.8/multiprocessing/pool.py:762\u001b[0m, in \u001b[0;36mApplyResult.wait\u001b[0;34m(self, timeout)\u001b[0m\n\u001b[1;32m    761\u001b[0m \u001b[38;5;28;01mdef\u001b[39;00m \u001b[38;5;21mwait\u001b[39m(\u001b[38;5;28mself\u001b[39m, timeout\u001b[38;5;241m=\u001b[39m\u001b[38;5;28;01mNone\u001b[39;00m):\n\u001b[0;32m--> 762\u001b[0m     \u001b[38;5;28;43mself\u001b[39;49m\u001b[38;5;241;43m.\u001b[39;49m\u001b[43m_event\u001b[49m\u001b[38;5;241;43m.\u001b[39;49m\u001b[43mwait\u001b[49m\u001b[43m(\u001b[49m\u001b[43mtimeout\u001b[49m\u001b[43m)\u001b[49m\n",
      "File \u001b[0;32m~/miniconda3/envs/igwn-py38/lib/python3.8/threading.py:558\u001b[0m, in \u001b[0;36mEvent.wait\u001b[0;34m(self, timeout)\u001b[0m\n\u001b[1;32m    556\u001b[0m signaled \u001b[38;5;241m=\u001b[39m \u001b[38;5;28mself\u001b[39m\u001b[38;5;241m.\u001b[39m_flag\n\u001b[1;32m    557\u001b[0m \u001b[38;5;28;01mif\u001b[39;00m \u001b[38;5;129;01mnot\u001b[39;00m signaled:\n\u001b[0;32m--> 558\u001b[0m     signaled \u001b[38;5;241m=\u001b[39m \u001b[38;5;28;43mself\u001b[39;49m\u001b[38;5;241;43m.\u001b[39;49m\u001b[43m_cond\u001b[49m\u001b[38;5;241;43m.\u001b[39;49m\u001b[43mwait\u001b[49m\u001b[43m(\u001b[49m\u001b[43mtimeout\u001b[49m\u001b[43m)\u001b[49m\n\u001b[1;32m    559\u001b[0m \u001b[38;5;28;01mreturn\u001b[39;00m signaled\n",
      "File \u001b[0;32m~/miniconda3/envs/igwn-py38/lib/python3.8/threading.py:302\u001b[0m, in \u001b[0;36mCondition.wait\u001b[0;34m(self, timeout)\u001b[0m\n\u001b[1;32m    300\u001b[0m \u001b[38;5;28;01mtry\u001b[39;00m:    \u001b[38;5;66;03m# restore state no matter what (e.g., KeyboardInterrupt)\u001b[39;00m\n\u001b[1;32m    301\u001b[0m     \u001b[38;5;28;01mif\u001b[39;00m timeout \u001b[38;5;129;01mis\u001b[39;00m \u001b[38;5;28;01mNone\u001b[39;00m:\n\u001b[0;32m--> 302\u001b[0m         \u001b[43mwaiter\u001b[49m\u001b[38;5;241;43m.\u001b[39;49m\u001b[43macquire\u001b[49m\u001b[43m(\u001b[49m\u001b[43m)\u001b[49m\n\u001b[1;32m    303\u001b[0m         gotit \u001b[38;5;241m=\u001b[39m \u001b[38;5;28;01mTrue\u001b[39;00m\n\u001b[1;32m    304\u001b[0m     \u001b[38;5;28;01melse\u001b[39;00m:\n",
      "\u001b[0;31mKeyboardInterrupt\u001b[0m: "
     ]
    }
   ],
   "source": [
    "ndim = 7\n",
    "\n",
    "with dypool.Pool(4, loglikelihood, prior_transform) as pool:\n",
    "    # The important thing that we provide the loglikelihood/prior transform from \n",
    "    # the pool    \n",
    "    psampler = dynesty.DynamicNestedSampler(pool.loglike, pool.prior_transform, ndim, \n",
    "                                 nlive=1000, sample='rslice',pool=pool,\n",
    "                                     )\n",
    "    psampler.run_nested()\n",
    "pres = psampler.results"
   ]
  },
  {
   "cell_type": "code",
   "execution_count": null,
   "id": "bee7dd89",
   "metadata": {},
   "outputs": [],
   "source": []
  }
 ],
 "metadata": {
  "kernelspec": {
   "display_name": "Python 3 (ipykernel)",
   "language": "python",
   "name": "python3"
  },
  "language_info": {
   "codemirror_mode": {
    "name": "ipython",
    "version": 3
   },
   "file_extension": ".py",
   "mimetype": "text/x-python",
   "name": "python",
   "nbconvert_exporter": "python",
   "pygments_lexer": "ipython3",
   "version": "3.8.13"
  }
 },
 "nbformat": 4,
 "nbformat_minor": 5
}
